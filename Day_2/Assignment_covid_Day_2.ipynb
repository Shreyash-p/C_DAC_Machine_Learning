{
 "cells": [
  {
   "cell_type": "code",
   "execution_count": 1,
   "id": "29e667e2",
   "metadata": {},
   "outputs": [],
   "source": [
    "import numpy as np\n",
    "import pandas as pd \n",
    "import matplotlib.pyplot as plt\n",
    "from sklearn.impute import SimpleImputer\n",
    "from sklearn.compose import ColumnTransformer\n",
    "from sklearn.preprocessing import OneHotEncoder\n",
    "from sklearn.preprocessing import LabelEncoder\n",
    "from sklearn.preprocessing import OrdinalEncoder\n",
    "from sklearn.model_selection import train_test_split\n",
    "from sklearn.preprocessing import StandardScaler"
   ]
  },
  {
   "cell_type": "code",
   "execution_count": 2,
   "id": "ce6727a4",
   "metadata": {},
   "outputs": [
    {
     "data": {
      "text/html": [
       "<div>\n",
       "<style scoped>\n",
       "    .dataframe tbody tr th:only-of-type {\n",
       "        vertical-align: middle;\n",
       "    }\n",
       "\n",
       "    .dataframe tbody tr th {\n",
       "        vertical-align: top;\n",
       "    }\n",
       "\n",
       "    .dataframe thead th {\n",
       "        text-align: right;\n",
       "    }\n",
       "</style>\n",
       "<table border=\"1\" class=\"dataframe\">\n",
       "  <thead>\n",
       "    <tr style=\"text-align: right;\">\n",
       "      <th></th>\n",
       "      <th>age</th>\n",
       "      <th>gender</th>\n",
       "      <th>fever</th>\n",
       "      <th>cough</th>\n",
       "      <th>city</th>\n",
       "      <th>has_covid</th>\n",
       "    </tr>\n",
       "  </thead>\n",
       "  <tbody>\n",
       "    <tr>\n",
       "      <th>0</th>\n",
       "      <td>60</td>\n",
       "      <td>Male</td>\n",
       "      <td>103.0</td>\n",
       "      <td>Mild</td>\n",
       "      <td>Kolkata</td>\n",
       "      <td>No</td>\n",
       "    </tr>\n",
       "    <tr>\n",
       "      <th>1</th>\n",
       "      <td>27</td>\n",
       "      <td>Male</td>\n",
       "      <td>100.0</td>\n",
       "      <td>Mild</td>\n",
       "      <td>Delhi</td>\n",
       "      <td>Yes</td>\n",
       "    </tr>\n",
       "    <tr>\n",
       "      <th>2</th>\n",
       "      <td>42</td>\n",
       "      <td>Male</td>\n",
       "      <td>101.0</td>\n",
       "      <td>Mild</td>\n",
       "      <td>Delhi</td>\n",
       "      <td>No</td>\n",
       "    </tr>\n",
       "    <tr>\n",
       "      <th>3</th>\n",
       "      <td>31</td>\n",
       "      <td>Female</td>\n",
       "      <td>98.0</td>\n",
       "      <td>Mild</td>\n",
       "      <td>Kolkata</td>\n",
       "      <td>No</td>\n",
       "    </tr>\n",
       "    <tr>\n",
       "      <th>4</th>\n",
       "      <td>65</td>\n",
       "      <td>Female</td>\n",
       "      <td>101.0</td>\n",
       "      <td>Mild</td>\n",
       "      <td>Mumbai</td>\n",
       "      <td>No</td>\n",
       "    </tr>\n",
       "  </tbody>\n",
       "</table>\n",
       "</div>"
      ],
      "text/plain": [
       "   age  gender  fever cough     city has_covid\n",
       "0   60    Male  103.0  Mild  Kolkata        No\n",
       "1   27    Male  100.0  Mild    Delhi       Yes\n",
       "2   42    Male  101.0  Mild    Delhi        No\n",
       "3   31  Female   98.0  Mild  Kolkata        No\n",
       "4   65  Female  101.0  Mild   Mumbai        No"
      ]
     },
     "execution_count": 2,
     "metadata": {},
     "output_type": "execute_result"
    }
   ],
   "source": [
    "covid = pd.read_csv(r\"C:\\Users\\patil\\Desktop\\Know IT CADC\\Practical Machine Learning\\Common_Folder\\day2\\dataset\\covid_toy.csv\")\n",
    "covid.head()"
   ]
  },
  {
   "cell_type": "code",
   "execution_count": 3,
   "id": "f003d7fa",
   "metadata": {},
   "outputs": [
    {
     "data": {
      "text/plain": [
       "age           0\n",
       "gender        0\n",
       "fever        10\n",
       "cough         0\n",
       "city          0\n",
       "has_covid     0\n",
       "dtype: int64"
      ]
     },
     "execution_count": 3,
     "metadata": {},
     "output_type": "execute_result"
    }
   ],
   "source": [
    "covid.isna().sum()"
   ]
  },
  {
   "cell_type": "code",
   "execution_count": 4,
   "id": "c28ed036",
   "metadata": {},
   "outputs": [],
   "source": [
    "# Taking all the Independent values in X and Dependent values in Y"
   ]
  },
  {
   "cell_type": "code",
   "execution_count": 5,
   "id": "a21e82bf",
   "metadata": {},
   "outputs": [],
   "source": [
    "x = covid.drop('has_covid', axis=1)\n",
    "y = covid['has_covid']"
   ]
  },
  {
   "cell_type": "code",
   "execution_count": 6,
   "id": "3dc8abba",
   "metadata": {},
   "outputs": [],
   "source": [
    "# Splitting Independent data in (x_train, x_test) & Dependent data in (y_train, y_test) in 80:20 ratio\n",
    "# Train data for training the Model \n",
    "# Test data for testing the Model"
   ]
  },
  {
   "cell_type": "code",
   "execution_count": 7,
   "id": "959f9b6f",
   "metadata": {},
   "outputs": [],
   "source": [
    "x_train, x_test, y_train, y_test = train_test_split(x, y, test_size=0.2, random_state=1)"
   ]
  },
  {
   "cell_type": "code",
   "execution_count": 8,
   "id": "b1b150b5",
   "metadata": {},
   "outputs": [],
   "source": [
    "# Filling null values in fever column using mean value of that column using SimpleImputer for that\n",
    "# Using transform to assign the new values to old values"
   ]
  },
  {
   "cell_type": "code",
   "execution_count": 9,
   "id": "e50dd3ac",
   "metadata": {},
   "outputs": [],
   "source": [
    "imputer = SimpleImputer(missing_values=np.NaN, strategy='mean')\n",
    "x_train.iloc[:,2:3]=imputer.fit_transform(x_train.iloc[:,2:3])"
   ]
  },
  {
   "cell_type": "code",
   "execution_count": 10,
   "id": "90d5cdfa",
   "metadata": {},
   "outputs": [],
   "source": [
    "imputer = SimpleImputer(missing_values=np.NaN, strategy='mean')\n",
    "x_test.iloc[: , 2:3] = imputer.fit_transform(x_test.iloc[: , 2:3])"
   ]
  },
  {
   "cell_type": "code",
   "execution_count": 12,
   "id": "7b967fc6",
   "metadata": {},
   "outputs": [
    {
     "name": "stdout",
     "output_type": "stream",
     "text": [
      "(80, 5)\n",
      "(20, 5)\n"
     ]
    },
    {
     "data": {
      "text/html": [
       "<div>\n",
       "<style scoped>\n",
       "    .dataframe tbody tr th:only-of-type {\n",
       "        vertical-align: middle;\n",
       "    }\n",
       "\n",
       "    .dataframe tbody tr th {\n",
       "        vertical-align: top;\n",
       "    }\n",
       "\n",
       "    .dataframe thead th {\n",
       "        text-align: right;\n",
       "    }\n",
       "</style>\n",
       "<table border=\"1\" class=\"dataframe\">\n",
       "  <thead>\n",
       "    <tr style=\"text-align: right;\">\n",
       "      <th></th>\n",
       "      <th>age</th>\n",
       "      <th>gender</th>\n",
       "      <th>fever</th>\n",
       "      <th>cough</th>\n",
       "      <th>city</th>\n",
       "    </tr>\n",
       "  </thead>\n",
       "  <tbody>\n",
       "    <tr>\n",
       "      <th>80</th>\n",
       "      <td>14</td>\n",
       "      <td>Female</td>\n",
       "      <td>99.000000</td>\n",
       "      <td>Mild</td>\n",
       "      <td>Mumbai</td>\n",
       "    </tr>\n",
       "    <tr>\n",
       "      <th>84</th>\n",
       "      <td>69</td>\n",
       "      <td>Female</td>\n",
       "      <td>98.000000</td>\n",
       "      <td>Strong</td>\n",
       "      <td>Mumbai</td>\n",
       "    </tr>\n",
       "    <tr>\n",
       "      <th>33</th>\n",
       "      <td>26</td>\n",
       "      <td>Female</td>\n",
       "      <td>98.000000</td>\n",
       "      <td>Mild</td>\n",
       "      <td>Kolkata</td>\n",
       "    </tr>\n",
       "    <tr>\n",
       "      <th>81</th>\n",
       "      <td>65</td>\n",
       "      <td>Male</td>\n",
       "      <td>99.000000</td>\n",
       "      <td>Mild</td>\n",
       "      <td>Delhi</td>\n",
       "    </tr>\n",
       "    <tr>\n",
       "      <th>93</th>\n",
       "      <td>27</td>\n",
       "      <td>Male</td>\n",
       "      <td>100.000000</td>\n",
       "      <td>Mild</td>\n",
       "      <td>Kolkata</td>\n",
       "    </tr>\n",
       "    <tr>\n",
       "      <th>17</th>\n",
       "      <td>40</td>\n",
       "      <td>Female</td>\n",
       "      <td>98.000000</td>\n",
       "      <td>Strong</td>\n",
       "      <td>Delhi</td>\n",
       "    </tr>\n",
       "    <tr>\n",
       "      <th>36</th>\n",
       "      <td>38</td>\n",
       "      <td>Female</td>\n",
       "      <td>101.000000</td>\n",
       "      <td>Mild</td>\n",
       "      <td>Bangalore</td>\n",
       "    </tr>\n",
       "    <tr>\n",
       "      <th>82</th>\n",
       "      <td>24</td>\n",
       "      <td>Male</td>\n",
       "      <td>98.000000</td>\n",
       "      <td>Mild</td>\n",
       "      <td>Kolkata</td>\n",
       "    </tr>\n",
       "    <tr>\n",
       "      <th>69</th>\n",
       "      <td>73</td>\n",
       "      <td>Female</td>\n",
       "      <td>103.000000</td>\n",
       "      <td>Mild</td>\n",
       "      <td>Delhi</td>\n",
       "    </tr>\n",
       "    <tr>\n",
       "      <th>65</th>\n",
       "      <td>69</td>\n",
       "      <td>Female</td>\n",
       "      <td>102.000000</td>\n",
       "      <td>Mild</td>\n",
       "      <td>Bangalore</td>\n",
       "    </tr>\n",
       "    <tr>\n",
       "      <th>92</th>\n",
       "      <td>82</td>\n",
       "      <td>Female</td>\n",
       "      <td>102.000000</td>\n",
       "      <td>Strong</td>\n",
       "      <td>Kolkata</td>\n",
       "    </tr>\n",
       "    <tr>\n",
       "      <th>39</th>\n",
       "      <td>50</td>\n",
       "      <td>Female</td>\n",
       "      <td>103.000000</td>\n",
       "      <td>Mild</td>\n",
       "      <td>Kolkata</td>\n",
       "    </tr>\n",
       "    <tr>\n",
       "      <th>56</th>\n",
       "      <td>71</td>\n",
       "      <td>Male</td>\n",
       "      <td>100.388889</td>\n",
       "      <td>Strong</td>\n",
       "      <td>Kolkata</td>\n",
       "    </tr>\n",
       "    <tr>\n",
       "      <th>52</th>\n",
       "      <td>47</td>\n",
       "      <td>Female</td>\n",
       "      <td>100.000000</td>\n",
       "      <td>Strong</td>\n",
       "      <td>Bangalore</td>\n",
       "    </tr>\n",
       "    <tr>\n",
       "      <th>51</th>\n",
       "      <td>11</td>\n",
       "      <td>Female</td>\n",
       "      <td>100.000000</td>\n",
       "      <td>Strong</td>\n",
       "      <td>Kolkata</td>\n",
       "    </tr>\n",
       "    <tr>\n",
       "      <th>32</th>\n",
       "      <td>34</td>\n",
       "      <td>Female</td>\n",
       "      <td>101.000000</td>\n",
       "      <td>Strong</td>\n",
       "      <td>Delhi</td>\n",
       "    </tr>\n",
       "    <tr>\n",
       "      <th>31</th>\n",
       "      <td>83</td>\n",
       "      <td>Male</td>\n",
       "      <td>103.000000</td>\n",
       "      <td>Mild</td>\n",
       "      <td>Kolkata</td>\n",
       "    </tr>\n",
       "    <tr>\n",
       "      <th>44</th>\n",
       "      <td>20</td>\n",
       "      <td>Male</td>\n",
       "      <td>102.000000</td>\n",
       "      <td>Strong</td>\n",
       "      <td>Delhi</td>\n",
       "    </tr>\n",
       "    <tr>\n",
       "      <th>78</th>\n",
       "      <td>11</td>\n",
       "      <td>Male</td>\n",
       "      <td>100.000000</td>\n",
       "      <td>Mild</td>\n",
       "      <td>Bangalore</td>\n",
       "    </tr>\n",
       "    <tr>\n",
       "      <th>10</th>\n",
       "      <td>75</td>\n",
       "      <td>Female</td>\n",
       "      <td>100.388889</td>\n",
       "      <td>Mild</td>\n",
       "      <td>Delhi</td>\n",
       "    </tr>\n",
       "  </tbody>\n",
       "</table>\n",
       "</div>"
      ],
      "text/plain": [
       "    age  gender       fever   cough       city\n",
       "80   14  Female   99.000000    Mild     Mumbai\n",
       "84   69  Female   98.000000  Strong     Mumbai\n",
       "33   26  Female   98.000000    Mild    Kolkata\n",
       "81   65    Male   99.000000    Mild      Delhi\n",
       "93   27    Male  100.000000    Mild    Kolkata\n",
       "17   40  Female   98.000000  Strong      Delhi\n",
       "36   38  Female  101.000000    Mild  Bangalore\n",
       "82   24    Male   98.000000    Mild    Kolkata\n",
       "69   73  Female  103.000000    Mild      Delhi\n",
       "65   69  Female  102.000000    Mild  Bangalore\n",
       "92   82  Female  102.000000  Strong    Kolkata\n",
       "39   50  Female  103.000000    Mild    Kolkata\n",
       "56   71    Male  100.388889  Strong    Kolkata\n",
       "52   47  Female  100.000000  Strong  Bangalore\n",
       "51   11  Female  100.000000  Strong    Kolkata\n",
       "32   34  Female  101.000000  Strong      Delhi\n",
       "31   83    Male  103.000000    Mild    Kolkata\n",
       "44   20    Male  102.000000  Strong      Delhi\n",
       "78   11    Male  100.000000    Mild  Bangalore\n",
       "10   75  Female  100.388889    Mild      Delhi"
      ]
     },
     "execution_count": 12,
     "metadata": {},
     "output_type": "execute_result"
    }
   ],
   "source": [
    "print(x_train.shape)\n",
    "print(x_test.shape)\n",
    "x_test"
   ]
  },
  {
   "cell_type": "code",
   "execution_count": 11,
   "id": "10052d56",
   "metadata": {},
   "outputs": [],
   "source": [
    "# ColumnTransformer is used to specify which columns to transform\n",
    "# transformers=[(name_of_encoder, class object which transforms the column, index of column)]    multiple tuples can be passed "
   ]
  },
  {
   "cell_type": "code",
   "execution_count": 13,
   "id": "d6456791",
   "metadata": {},
   "outputs": [],
   "source": [
    "# ColumnTransformer is called Pipeline"
   ]
  },
  {
   "cell_type": "code",
   "execution_count": 14,
   "id": "60789210",
   "metadata": {},
   "outputs": [
    {
     "name": "stderr",
     "output_type": "stream",
     "text": [
      "C:\\Users\\patil\\anaconda3\\lib\\site-packages\\sklearn\\preprocessing\\_encoders.py:828: FutureWarning: `sparse` was renamed to `sparse_output` in version 1.2 and will be removed in 1.4. `sparse_output` is ignored unless you leave `sparse` to its default value.\n",
      "  warnings.warn(\n",
      "C:\\Users\\patil\\anaconda3\\lib\\site-packages\\sklearn\\preprocessing\\_encoders.py:828: FutureWarning: `sparse` was renamed to `sparse_output` in version 1.2 and will be removed in 1.4. `sparse_output` is ignored unless you leave `sparse` to its default value.\n",
      "  warnings.warn(\n"
     ]
    }
   ],
   "source": [
    "ct = ColumnTransformer(transformers=[('enc1', OneHotEncoder(sparse=False, drop='first'), [1]), \n",
    "                                     ('enc2', OneHotEncoder(sparse=False, drop='first'), [4]), \n",
    "                                     ('enc3', OrdinalEncoder(categories=[['Mild', 'Strong']]), [3])], \n",
    "                       remainder='passthrough')\n",
    "\n",
    "x_train = ct.fit_transform(x_train)"
   ]
  },
  {
   "cell_type": "code",
   "execution_count": 15,
   "id": "bfd7091d",
   "metadata": {
    "scrolled": false
   },
   "outputs": [
    {
     "data": {
      "text/plain": [
       "(80, 7)"
      ]
     },
     "execution_count": 15,
     "metadata": {},
     "output_type": "execute_result"
    }
   ],
   "source": [
    "x_train.shape"
   ]
  },
  {
   "cell_type": "code",
   "execution_count": 16,
   "id": "a14d8cb4",
   "metadata": {},
   "outputs": [
    {
     "name": "stderr",
     "output_type": "stream",
     "text": [
      "C:\\Users\\patil\\anaconda3\\lib\\site-packages\\sklearn\\preprocessing\\_encoders.py:828: FutureWarning: `sparse` was renamed to `sparse_output` in version 1.2 and will be removed in 1.4. `sparse_output` is ignored unless you leave `sparse` to its default value.\n",
      "  warnings.warn(\n",
      "C:\\Users\\patil\\anaconda3\\lib\\site-packages\\sklearn\\preprocessing\\_encoders.py:828: FutureWarning: `sparse` was renamed to `sparse_output` in version 1.2 and will be removed in 1.4. `sparse_output` is ignored unless you leave `sparse` to its default value.\n",
      "  warnings.warn(\n"
     ]
    }
   ],
   "source": [
    "ct = ColumnTransformer(transformers=[('enc1', OneHotEncoder(sparse=False, drop='first'), [1]), \n",
    "                                     ('enc2', OneHotEncoder(sparse=False, drop='first'), [4]), \n",
    "                                     ('enc3', OrdinalEncoder(categories=[['Mild', 'Strong']]), [3])], \n",
    "                        remainder='passthrough')\n",
    "\n",
    "x_test = ct.fit_transform(x_test)"
   ]
  },
  {
   "cell_type": "code",
   "execution_count": 17,
   "id": "5a1714e1",
   "metadata": {},
   "outputs": [
    {
     "data": {
      "text/plain": [
       "(20, 7)"
      ]
     },
     "execution_count": 17,
     "metadata": {},
     "output_type": "execute_result"
    }
   ],
   "source": [
    "x_test.shape"
   ]
  },
  {
   "cell_type": "code",
   "execution_count": 18,
   "id": "be899f65",
   "metadata": {},
   "outputs": [
    {
     "data": {
      "text/plain": [
       "array([[  0.        ,   0.        ,   0.        ,   1.        ,\n",
       "          0.        ,  14.        ,  99.        ],\n",
       "       [  0.        ,   0.        ,   0.        ,   1.        ,\n",
       "          1.        ,  69.        ,  98.        ],\n",
       "       [  0.        ,   0.        ,   1.        ,   0.        ,\n",
       "          0.        ,  26.        ,  98.        ],\n",
       "       [  1.        ,   1.        ,   0.        ,   0.        ,\n",
       "          0.        ,  65.        ,  99.        ],\n",
       "       [  1.        ,   0.        ,   1.        ,   0.        ,\n",
       "          0.        ,  27.        , 100.        ],\n",
       "       [  0.        ,   1.        ,   0.        ,   0.        ,\n",
       "          1.        ,  40.        ,  98.        ],\n",
       "       [  0.        ,   0.        ,   0.        ,   0.        ,\n",
       "          0.        ,  38.        , 101.        ],\n",
       "       [  1.        ,   0.        ,   1.        ,   0.        ,\n",
       "          0.        ,  24.        ,  98.        ],\n",
       "       [  0.        ,   1.        ,   0.        ,   0.        ,\n",
       "          0.        ,  73.        , 103.        ],\n",
       "       [  0.        ,   0.        ,   0.        ,   0.        ,\n",
       "          0.        ,  69.        , 102.        ],\n",
       "       [  0.        ,   0.        ,   1.        ,   0.        ,\n",
       "          1.        ,  82.        , 102.        ],\n",
       "       [  0.        ,   0.        ,   1.        ,   0.        ,\n",
       "          0.        ,  50.        , 103.        ],\n",
       "       [  1.        ,   0.        ,   1.        ,   0.        ,\n",
       "          1.        ,  71.        , 100.38888889],\n",
       "       [  0.        ,   0.        ,   0.        ,   0.        ,\n",
       "          1.        ,  47.        , 100.        ],\n",
       "       [  0.        ,   0.        ,   1.        ,   0.        ,\n",
       "          1.        ,  11.        , 100.        ],\n",
       "       [  0.        ,   1.        ,   0.        ,   0.        ,\n",
       "          1.        ,  34.        , 101.        ],\n",
       "       [  1.        ,   0.        ,   1.        ,   0.        ,\n",
       "          0.        ,  83.        , 103.        ],\n",
       "       [  1.        ,   1.        ,   0.        ,   0.        ,\n",
       "          1.        ,  20.        , 102.        ],\n",
       "       [  1.        ,   0.        ,   0.        ,   0.        ,\n",
       "          0.        ,  11.        , 100.        ],\n",
       "       [  0.        ,   1.        ,   0.        ,   0.        ,\n",
       "          0.        ,  75.        , 100.38888889]])"
      ]
     },
     "execution_count": 18,
     "metadata": {},
     "output_type": "execute_result"
    }
   ],
   "source": [
    "x_test"
   ]
  },
  {
   "cell_type": "code",
   "execution_count": null,
   "id": "ad063ebe",
   "metadata": {},
   "outputs": [],
   "source": []
  },
  {
   "cell_type": "code",
   "execution_count": null,
   "id": "e326ca44",
   "metadata": {},
   "outputs": [],
   "source": []
  }
 ],
 "metadata": {
  "kernelspec": {
   "display_name": "Python 3 (ipykernel)",
   "language": "python",
   "name": "python3"
  },
  "language_info": {
   "codemirror_mode": {
    "name": "ipython",
    "version": 3
   },
   "file_extension": ".py",
   "mimetype": "text/x-python",
   "name": "python",
   "nbconvert_exporter": "python",
   "pygments_lexer": "ipython3",
   "version": "3.10.9"
  }
 },
 "nbformat": 4,
 "nbformat_minor": 5
}
