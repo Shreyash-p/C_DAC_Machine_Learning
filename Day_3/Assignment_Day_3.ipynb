{
 "cells": [
  {
   "cell_type": "code",
   "execution_count": 1,
   "id": "618a227b",
   "metadata": {},
   "outputs": [],
   "source": [
    "import pandas as pd\n",
    "import numpy as np\n",
    "from sklearn.model_selection import train_test_split\n",
    "from sklearn import linear_model\n",
    "from sklearn.metrics import mean_squared_error\n",
    "from sklearn.metrics import r2_score\n",
    "import matplotlib.pyplot as plt\n",
    "from sklearn.linear_model import LinearRegression\n",
    "from sklearn.preprocessing import PolynomialFeatures\n",
    "from sklearn.compose import ColumnTransformer\n",
    "from sklearn.impute import SimpleImputer\n",
    "from sklearn.preprocessing import OneHotEncoder\n",
    "from sklearn.preprocessing import OrdinalEncoder"
   ]
  },
  {
   "cell_type": "code",
   "execution_count": 2,
   "id": "39cb4198",
   "metadata": {},
   "outputs": [
    {
     "data": {
      "text/html": [
       "<div>\n",
       "<style scoped>\n",
       "    .dataframe tbody tr th:only-of-type {\n",
       "        vertical-align: middle;\n",
       "    }\n",
       "\n",
       "    .dataframe tbody tr th {\n",
       "        vertical-align: top;\n",
       "    }\n",
       "\n",
       "    .dataframe thead th {\n",
       "        text-align: right;\n",
       "    }\n",
       "</style>\n",
       "<table border=\"1\" class=\"dataframe\">\n",
       "  <thead>\n",
       "    <tr style=\"text-align: right;\">\n",
       "      <th></th>\n",
       "      <th>area</th>\n",
       "      <th>price</th>\n",
       "    </tr>\n",
       "  </thead>\n",
       "  <tbody>\n",
       "    <tr>\n",
       "      <th>0</th>\n",
       "      <td>2600</td>\n",
       "      <td>550000</td>\n",
       "    </tr>\n",
       "    <tr>\n",
       "      <th>1</th>\n",
       "      <td>3000</td>\n",
       "      <td>565000</td>\n",
       "    </tr>\n",
       "    <tr>\n",
       "      <th>2</th>\n",
       "      <td>3200</td>\n",
       "      <td>610000</td>\n",
       "    </tr>\n",
       "    <tr>\n",
       "      <th>3</th>\n",
       "      <td>3600</td>\n",
       "      <td>680000</td>\n",
       "    </tr>\n",
       "    <tr>\n",
       "      <th>4</th>\n",
       "      <td>4000</td>\n",
       "      <td>725000</td>\n",
       "    </tr>\n",
       "    <tr>\n",
       "      <th>5</th>\n",
       "      <td>5000</td>\n",
       "      <td>800000</td>\n",
       "    </tr>\n",
       "    <tr>\n",
       "      <th>6</th>\n",
       "      <td>2000</td>\n",
       "      <td>450000</td>\n",
       "    </tr>\n",
       "    <tr>\n",
       "      <th>7</th>\n",
       "      <td>3000</td>\n",
       "      <td>550000</td>\n",
       "    </tr>\n",
       "    <tr>\n",
       "      <th>8</th>\n",
       "      <td>2800</td>\n",
       "      <td>580000</td>\n",
       "    </tr>\n",
       "    <tr>\n",
       "      <th>9</th>\n",
       "      <td>3100</td>\n",
       "      <td>600000</td>\n",
       "    </tr>\n",
       "    <tr>\n",
       "      <th>10</th>\n",
       "      <td>7000</td>\n",
       "      <td>910000</td>\n",
       "    </tr>\n",
       "  </tbody>\n",
       "</table>\n",
       "</div>"
      ],
      "text/plain": [
       "    area   price\n",
       "0   2600  550000\n",
       "1   3000  565000\n",
       "2   3200  610000\n",
       "3   3600  680000\n",
       "4   4000  725000\n",
       "5   5000  800000\n",
       "6   2000  450000\n",
       "7   3000  550000\n",
       "8   2800  580000\n",
       "9   3100  600000\n",
       "10  7000  910000"
      ]
     },
     "execution_count": 2,
     "metadata": {},
     "output_type": "execute_result"
    }
   ],
   "source": [
    "df = pd.read_csv(r\"C:\\Users\\patil\\Desktop\\Know IT CADC\\Practical Machine Learning\\Common_Folder\\Day 3\\homeprices.csv\")\n",
    "df"
   ]
  },
  {
   "cell_type": "code",
   "execution_count": 3,
   "id": "80b9bca2",
   "metadata": {},
   "outputs": [
    {
     "data": {
      "text/html": [
       "<div>\n",
       "<style scoped>\n",
       "    .dataframe tbody tr th:only-of-type {\n",
       "        vertical-align: middle;\n",
       "    }\n",
       "\n",
       "    .dataframe tbody tr th {\n",
       "        vertical-align: top;\n",
       "    }\n",
       "\n",
       "    .dataframe thead th {\n",
       "        text-align: right;\n",
       "    }\n",
       "</style>\n",
       "<table border=\"1\" class=\"dataframe\">\n",
       "  <thead>\n",
       "    <tr style=\"text-align: right;\">\n",
       "      <th></th>\n",
       "      <th>area</th>\n",
       "      <th>price</th>\n",
       "    </tr>\n",
       "  </thead>\n",
       "  <tbody>\n",
       "    <tr>\n",
       "      <th>0</th>\n",
       "      <td>2600</td>\n",
       "      <td>550000</td>\n",
       "    </tr>\n",
       "    <tr>\n",
       "      <th>1</th>\n",
       "      <td>3000</td>\n",
       "      <td>565000</td>\n",
       "    </tr>\n",
       "    <tr>\n",
       "      <th>2</th>\n",
       "      <td>3200</td>\n",
       "      <td>610000</td>\n",
       "    </tr>\n",
       "    <tr>\n",
       "      <th>3</th>\n",
       "      <td>3600</td>\n",
       "      <td>680000</td>\n",
       "    </tr>\n",
       "    <tr>\n",
       "      <th>4</th>\n",
       "      <td>4000</td>\n",
       "      <td>725000</td>\n",
       "    </tr>\n",
       "    <tr>\n",
       "      <th>5</th>\n",
       "      <td>4200</td>\n",
       "      <td>750000</td>\n",
       "    </tr>\n",
       "    <tr>\n",
       "      <th>6</th>\n",
       "      <td>2000</td>\n",
       "      <td>450000</td>\n",
       "    </tr>\n",
       "    <tr>\n",
       "      <th>7</th>\n",
       "      <td>3000</td>\n",
       "      <td>550000</td>\n",
       "    </tr>\n",
       "    <tr>\n",
       "      <th>8</th>\n",
       "      <td>2800</td>\n",
       "      <td>580000</td>\n",
       "    </tr>\n",
       "    <tr>\n",
       "      <th>9</th>\n",
       "      <td>3100</td>\n",
       "      <td>600000</td>\n",
       "    </tr>\n",
       "    <tr>\n",
       "      <th>10</th>\n",
       "      <td>7000</td>\n",
       "      <td>910000</td>\n",
       "    </tr>\n",
       "  </tbody>\n",
       "</table>\n",
       "</div>"
      ],
      "text/plain": [
       "    area   price\n",
       "0   2600  550000\n",
       "1   3000  565000\n",
       "2   3200  610000\n",
       "3   3600  680000\n",
       "4   4000  725000\n",
       "5   4200  750000\n",
       "6   2000  450000\n",
       "7   3000  550000\n",
       "8   2800  580000\n",
       "9   3100  600000\n",
       "10  7000  910000"
      ]
     },
     "execution_count": 3,
     "metadata": {},
     "output_type": "execute_result"
    }
   ],
   "source": [
    "# Adding values using indexing\n",
    "df.loc[5] = [4200, 750000]\n",
    "df"
   ]
  },
  {
   "cell_type": "code",
   "execution_count": 4,
   "id": "e46b6829",
   "metadata": {},
   "outputs": [],
   "source": [
    "# Adding new data using dictionary \n",
    "new_values = [{'area':3250, 'price':640000}, {'area':3300, 'price':650000}, {'area':2700, 'price':555000}, \n",
    "              {'area':3800, 'price':690000}, \n",
    "              {'area':3850, 'price':695000}, {'area':3900, 'price':695000}]"
   ]
  },
  {
   "cell_type": "code",
   "execution_count": 5,
   "id": "9adf4101",
   "metadata": {},
   "outputs": [
    {
     "name": "stderr",
     "output_type": "stream",
     "text": [
      "C:\\Users\\patil\\AppData\\Local\\Temp\\ipykernel_11276\\2025713935.py:2: FutureWarning: The frame.append method is deprecated and will be removed from pandas in a future version. Use pandas.concat instead.\n",
      "  df = df.append(new_values, ignore_index=True)\n"
     ]
    },
    {
     "data": {
      "text/html": [
       "<div>\n",
       "<style scoped>\n",
       "    .dataframe tbody tr th:only-of-type {\n",
       "        vertical-align: middle;\n",
       "    }\n",
       "\n",
       "    .dataframe tbody tr th {\n",
       "        vertical-align: top;\n",
       "    }\n",
       "\n",
       "    .dataframe thead th {\n",
       "        text-align: right;\n",
       "    }\n",
       "</style>\n",
       "<table border=\"1\" class=\"dataframe\">\n",
       "  <thead>\n",
       "    <tr style=\"text-align: right;\">\n",
       "      <th></th>\n",
       "      <th>area</th>\n",
       "      <th>price</th>\n",
       "    </tr>\n",
       "  </thead>\n",
       "  <tbody>\n",
       "    <tr>\n",
       "      <th>0</th>\n",
       "      <td>2600</td>\n",
       "      <td>550000</td>\n",
       "    </tr>\n",
       "    <tr>\n",
       "      <th>1</th>\n",
       "      <td>3000</td>\n",
       "      <td>565000</td>\n",
       "    </tr>\n",
       "    <tr>\n",
       "      <th>2</th>\n",
       "      <td>3200</td>\n",
       "      <td>610000</td>\n",
       "    </tr>\n",
       "    <tr>\n",
       "      <th>3</th>\n",
       "      <td>3600</td>\n",
       "      <td>680000</td>\n",
       "    </tr>\n",
       "    <tr>\n",
       "      <th>4</th>\n",
       "      <td>4000</td>\n",
       "      <td>725000</td>\n",
       "    </tr>\n",
       "    <tr>\n",
       "      <th>5</th>\n",
       "      <td>4200</td>\n",
       "      <td>750000</td>\n",
       "    </tr>\n",
       "    <tr>\n",
       "      <th>6</th>\n",
       "      <td>2000</td>\n",
       "      <td>450000</td>\n",
       "    </tr>\n",
       "    <tr>\n",
       "      <th>7</th>\n",
       "      <td>3000</td>\n",
       "      <td>550000</td>\n",
       "    </tr>\n",
       "    <tr>\n",
       "      <th>8</th>\n",
       "      <td>2800</td>\n",
       "      <td>580000</td>\n",
       "    </tr>\n",
       "    <tr>\n",
       "      <th>9</th>\n",
       "      <td>3100</td>\n",
       "      <td>600000</td>\n",
       "    </tr>\n",
       "    <tr>\n",
       "      <th>10</th>\n",
       "      <td>7000</td>\n",
       "      <td>910000</td>\n",
       "    </tr>\n",
       "    <tr>\n",
       "      <th>11</th>\n",
       "      <td>3250</td>\n",
       "      <td>640000</td>\n",
       "    </tr>\n",
       "    <tr>\n",
       "      <th>12</th>\n",
       "      <td>3300</td>\n",
       "      <td>650000</td>\n",
       "    </tr>\n",
       "    <tr>\n",
       "      <th>13</th>\n",
       "      <td>2700</td>\n",
       "      <td>555000</td>\n",
       "    </tr>\n",
       "    <tr>\n",
       "      <th>14</th>\n",
       "      <td>3800</td>\n",
       "      <td>690000</td>\n",
       "    </tr>\n",
       "    <tr>\n",
       "      <th>15</th>\n",
       "      <td>3850</td>\n",
       "      <td>695000</td>\n",
       "    </tr>\n",
       "    <tr>\n",
       "      <th>16</th>\n",
       "      <td>3900</td>\n",
       "      <td>695000</td>\n",
       "    </tr>\n",
       "  </tbody>\n",
       "</table>\n",
       "</div>"
      ],
      "text/plain": [
       "    area   price\n",
       "0   2600  550000\n",
       "1   3000  565000\n",
       "2   3200  610000\n",
       "3   3600  680000\n",
       "4   4000  725000\n",
       "5   4200  750000\n",
       "6   2000  450000\n",
       "7   3000  550000\n",
       "8   2800  580000\n",
       "9   3100  600000\n",
       "10  7000  910000\n",
       "11  3250  640000\n",
       "12  3300  650000\n",
       "13  2700  555000\n",
       "14  3800  690000\n",
       "15  3850  695000\n",
       "16  3900  695000"
      ]
     },
     "execution_count": 5,
     "metadata": {},
     "output_type": "execute_result"
    }
   ],
   "source": [
    "# Appending the new values in the DataFrame\n",
    "df = df.append(new_values, ignore_index=True)\n",
    "df"
   ]
  },
  {
   "cell_type": "code",
   "execution_count": 6,
   "id": "354d62b4",
   "metadata": {},
   "outputs": [],
   "source": [
    "# Taking Independent values in X and Dependent values in Y\n",
    "x = df.drop('price', axis=1)\n",
    "y = df['price']"
   ]
  },
  {
   "cell_type": "code",
   "execution_count": 7,
   "id": "e167fb71",
   "metadata": {},
   "outputs": [
    {
     "data": {
      "image/png": "[encoded data removed]",
      "text/plain": [
       "<Figure size 640x480 with 1 Axes>"
      ]
     },
     "metadata": {},
     "output_type": "display_data"
    }
   ],
   "source": [
    "# Checking if the values are in linear regression using scatter plot\n",
    "plt.scatter(x, y, color='red', marker='+')\n",
    "plt.xlabel(\"Area\")\n",
    "plt.ylabel(\"Price\")\n",
    "plt.show()"
   ]
  },
  {
   "cell_type": "code",
   "execution_count": 8,
   "id": "18d6ec78",
   "metadata": {},
   "outputs": [],
   "source": [
    "# Splitting data in train and test in 80:20 ratio\n",
    "x_train, x_test, y_train, y_test = train_test_split(x, y, test_size=0.2, random_state=1)"
   ]
  },
  {
   "cell_type": "code",
   "execution_count": 9,
   "id": "b994bdba",
   "metadata": {},
   "outputs": [
    {
     "data": {
      "text/html": [
       "<style>#sk-container-id-1 {color: black;background-color: white;}#sk-container-id-1 pre{padding: 0;}#sk-container-id-1 div.sk-toggleable {background-color: white;}#sk-container-id-1 label.sk-toggleable__label {cursor: pointer;display: block;width: 100%;margin-bottom: 0;padding: 0.3em;box-sizing: border-box;text-align: center;}#sk-container-id-1 label.sk-toggleable__label-arrow:before {content: \"▸\";float: left;margin-right: 0.25em;color: #696969;}#sk-container-id-1 label.sk-toggleable__label-arrow:hover:before {color: black;}#sk-container-id-1 div.sk-estimator:hover label.sk-toggleable__label-arrow:before {color: black;}#sk-container-id-1 div.sk-toggleable__content {max-height: 0;max-width: 0;overflow: hidden;text-align: left;background-color: #f0f8ff;}#sk-container-id-1 div.sk-toggleable__content pre {margin: 0.2em;color: black;border-radius: 0.25em;background-color: #f0f8ff;}#sk-container-id-1 input.sk-toggleable__control:checked~div.sk-toggleable__content {max-height: 200px;max-width: 100%;overflow: auto;}#sk-container-id-1 input.sk-toggleable__control:checked~label.sk-toggleable__label-arrow:before {content: \"▾\";}#sk-container-id-1 div.sk-estimator input.sk-toggleable__control:checked~label.sk-toggleable__label {background-color: #d4ebff;}#sk-container-id-1 div.sk-label input.sk-toggleable__control:checked~label.sk-toggleable__label {background-color: #d4ebff;}#sk-container-id-1 input.sk-hidden--visually {border: 0;clip: rect(1px 1px 1px 1px);clip: rect(1px, 1px, 1px, 1px);height: 1px;margin: -1px;overflow: hidden;padding: 0;position: absolute;width: 1px;}#sk-container-id-1 div.sk-estimator {font-family: monospace;background-color: #f0f8ff;border: 1px dotted black;border-radius: 0.25em;box-sizing: border-box;margin-bottom: 0.5em;}#sk-container-id-1 div.sk-estimator:hover {background-color: #d4ebff;}#sk-container-id-1 div.sk-parallel-item::after {content: \"\";width: 100%;border-bottom: 1px solid gray;flex-grow: 1;}#sk-container-id-1 div.sk-label:hover label.sk-toggleable__label {background-color: #d4ebff;}#sk-container-id-1 div.sk-serial::before {content: \"\";position: absolute;border-left: 1px solid gray;box-sizing: border-box;top: 0;bottom: 0;left: 50%;z-index: 0;}#sk-container-id-1 div.sk-serial {display: flex;flex-direction: column;align-items: center;background-color: white;padding-right: 0.2em;padding-left: 0.2em;position: relative;}#sk-container-id-1 div.sk-item {position: relative;z-index: 1;}#sk-container-id-1 div.sk-parallel {display: flex;align-items: stretch;justify-content: center;background-color: white;position: relative;}#sk-container-id-1 div.sk-item::before, #sk-container-id-1 div.sk-parallel-item::before {content: \"\";position: absolute;border-left: 1px solid gray;box-sizing: border-box;top: 0;bottom: 0;left: 50%;z-index: -1;}#sk-container-id-1 div.sk-parallel-item {display: flex;flex-direction: column;z-index: 1;position: relative;background-color: white;}#sk-container-id-1 div.sk-parallel-item:first-child::after {align-self: flex-end;width: 50%;}#sk-container-id-1 div.sk-parallel-item:last-child::after {align-self: flex-start;width: 50%;}#sk-container-id-1 div.sk-parallel-item:only-child::after {width: 0;}#sk-container-id-1 div.sk-dashed-wrapped {border: 1px dashed gray;margin: 0 0.4em 0.5em 0.4em;box-sizing: border-box;padding-bottom: 0.4em;background-color: white;}#sk-container-id-1 div.sk-label label {font-family: monospace;font-weight: bold;display: inline-block;line-height: 1.2em;}#sk-container-id-1 div.sk-label-container {text-align: center;}#sk-container-id-1 div.sk-container {/* jupyter's `normalize.less` sets `[hidden] { display: none; }` but bootstrap.min.css set `[hidden] { display: none !important; }` so we also need the `!important` here to be able to override the default hidden behavior on the sphinx rendered scikit-learn.org. See: https://github.com/scikit-learn/scikit-learn/issues/21755 */display: inline-block !important;position: relative;}#sk-container-id-1 div.sk-text-repr-fallback {display: none;}</style><div id=\"sk-container-id-1\" class=\"sk-top-container\"><div class=\"sk-text-repr-fallback\"><pre>LinearRegression()</pre><b>In a Jupyter environment, please rerun this cell to show the HTML representation or trust the notebook. <br />On GitHub, the HTML representation is unable to render, please try loading this page with nbviewer.org.</b></div><div class=\"sk-container\" hidden><div class=\"sk-item\"><div class=\"sk-estimator sk-toggleable\"><input class=\"sk-toggleable__control sk-hidden--visually\" id=\"sk-estimator-id-1\" type=\"checkbox\" checked><label for=\"sk-estimator-id-1\" class=\"sk-toggleable__label sk-toggleable__label-arrow\">LinearRegression</label><div class=\"sk-toggleable__content\"><pre>LinearRegression()</pre></div></div></div></div></div>"
      ],
      "text/plain": [
       "LinearRegression()"
      ]
     },
     "execution_count": 9,
     "metadata": {},
     "output_type": "execute_result"
    }
   ],
   "source": [
    "# Making the Model\n",
    "lr = linear_model.LinearRegression()\n",
    "\n",
    "# Training the Model\n",
    "lr.fit(x_train,y_train)"
   ]
  },
  {
   "cell_type": "code",
   "execution_count": 10,
   "id": "59b0db80",
   "metadata": {},
   "outputs": [],
   "source": [
    "# Predicting the dependent values of x_test\n",
    "y_pred = lr.predict(x_test)"
   ]
  },
  {
   "cell_type": "code",
   "execution_count": 11,
   "id": "95c3b8c7",
   "metadata": {},
   "outputs": [
    {
     "data": {
      "text/plain": [
       "array([90.32957502])"
      ]
     },
     "execution_count": 11,
     "metadata": {},
     "output_type": "execute_result"
    }
   ],
   "source": [
    "lr.coef_"
   ]
  },
  {
   "cell_type": "code",
   "execution_count": 12,
   "id": "0b8cec00",
   "metadata": {},
   "outputs": [
    {
     "data": {
      "text/plain": [
       "328659.6837680967"
      ]
     },
     "execution_count": 12,
     "metadata": {},
     "output_type": "execute_result"
    }
   ],
   "source": [
    "lr.intercept_"
   ]
  },
  {
   "cell_type": "code",
   "execution_count": 13,
   "id": "34e4f409",
   "metadata": {},
   "outputs": [
    {
     "name": "stdout",
     "output_type": "stream",
     "text": [
      "R2 score = 0.6808635112102857\n"
     ]
    }
   ],
   "source": [
    "# Checking how accurate the model prediction is with R2 score\n",
    "print(\"R2 score =\", r2_score(y_test, y_pred))"
   ]
  },
  {
   "cell_type": "code",
   "execution_count": 14,
   "id": "c146715f",
   "metadata": {},
   "outputs": [],
   "source": [
    "# Predicting the dependent values of x_train\n",
    "y_pred = lr.predict(x_train)"
   ]
  },
  {
   "cell_type": "code",
   "execution_count": 15,
   "id": "6c74eb1a",
   "metadata": {},
   "outputs": [
    {
     "name": "stdout",
     "output_type": "stream",
     "text": [
      "R2 score = 0.9198846319556269\n"
     ]
    }
   ],
   "source": [
    "# Checking how accurate the model prediction is with R2 score\n",
    "print(\"R2 score =\", r2_score(y_train, y_pred))"
   ]
  },
  {
   "cell_type": "code",
   "execution_count": null,
   "id": "a74a8689",
   "metadata": {},
   "outputs": [],
   "source": []
  },
  {
   "cell_type": "markdown",
   "id": "de64cd48",
   "metadata": {},
   "source": [
    "# Question 1)"
   ]
  },
  {
   "cell_type": "markdown",
   "id": "8ea514d8",
   "metadata": {},
   "source": [
    "<p> <h3> Using following equation generate data for polynomial regression.</h3>  \n",
    "\n",
    "    X = 6 * np.random.rand(200, 1) - 3\n",
    "    y = 0.7 * X**3 +0.8 * X**2 + 0.85 * X + 2 + np.random.randn(200, 1)”\n",
    "</p>"
   ]
  },
  {
   "cell_type": "code",
   "execution_count": 16,
   "id": "7076e6b9",
   "metadata": {},
   "outputs": [],
   "source": [
    "x = 6 * np.random.rand(200, 1) - 3\n",
    "y = 0.7 * x**3 +0.8 * x**2 + 0.85 * x + 2 + np.random.randn(200, 1)"
   ]
  },
  {
   "cell_type": "code",
   "execution_count": 17,
   "id": "b24507ad",
   "metadata": {},
   "outputs": [
    {
     "name": "stdout",
     "output_type": "stream",
     "text": [
      "[[ 2.67363394]\n",
      " [-2.47136621]\n",
      " [-1.92983677]\n",
      " [-2.57133412]\n",
      " [-0.71764168]\n",
      " [-2.71271241]\n",
      " [ 1.95213416]\n",
      " [-1.35372361]\n",
      " [-1.15589105]\n",
      " [-1.50766657]\n",
      " [ 1.44424042]\n",
      " [-0.57785669]\n",
      " [-0.17013711]\n",
      " [-0.49257367]\n",
      " [-2.47036643]\n",
      " [ 1.72251093]\n",
      " [-2.43030914]\n",
      " [-1.72574486]\n",
      " [ 1.36535869]\n",
      " [-1.14016373]\n",
      " [-1.88218298]\n",
      " [ 1.97448434]\n",
      " [-2.02454607]\n",
      " [ 1.76729841]\n",
      " [ 2.74552313]\n",
      " [-2.11182547]\n",
      " [ 0.59355215]\n",
      " [ 1.06758403]\n",
      " [-1.28422458]\n",
      " [ 0.06350742]\n",
      " [ 2.6228008 ]\n",
      " [-0.17539849]\n",
      " [-0.71328691]\n",
      " [-0.51030934]\n",
      " [-0.28812917]\n",
      " [ 2.64885857]\n",
      " [-0.55315994]\n",
      " [-0.08770021]\n",
      " [-2.3062074 ]\n",
      " [ 0.64187655]\n",
      " [-0.47063277]\n",
      " [-2.10936855]\n",
      " [ 2.2918138 ]\n",
      " [ 2.25669616]\n",
      " [ 0.59706166]\n",
      " [-0.20106967]\n",
      " [-0.53128394]\n",
      " [-0.00888196]\n",
      " [-1.47870271]\n",
      " [ 1.51209737]\n",
      " [-0.02766945]\n",
      " [ 0.51987081]\n",
      " [-2.75770546]\n",
      " [-1.260754  ]\n",
      " [-2.0149923 ]\n",
      " [-1.06067162]\n",
      " [ 2.92568052]\n",
      " [-2.82090514]\n",
      " [-2.31079988]\n",
      " [ 1.58706041]\n",
      " [-2.36097691]\n",
      " [ 0.27711729]\n",
      " [-0.98461586]\n",
      " [-0.09542718]\n",
      " [ 2.80151608]\n",
      " [ 1.45013258]\n",
      " [-2.70995223]\n",
      " [ 2.19306163]\n",
      " [ 0.35194295]\n",
      " [-0.91741886]\n",
      " [ 1.44284572]\n",
      " [ 0.02309068]\n",
      " [-2.34117004]\n",
      " [ 2.42473137]\n",
      " [-0.03942948]\n",
      " [ 2.35440793]\n",
      " [-0.04056232]\n",
      " [-0.41862417]\n",
      " [ 1.74820439]\n",
      " [ 0.40182945]\n",
      " [ 1.53001636]\n",
      " [-0.88010548]\n",
      " [-0.61947243]\n",
      " [ 2.23534306]\n",
      " [-1.18305475]\n",
      " [-1.00554255]\n",
      " [ 0.07938982]\n",
      " [-1.49683182]\n",
      " [ 1.02581265]\n",
      " [ 1.29780051]\n",
      " [-2.38154213]\n",
      " [-1.51189865]\n",
      " [-1.22287047]\n",
      " [-0.14793698]\n",
      " [-2.51878438]\n",
      " [ 2.93413593]\n",
      " [ 2.11095814]\n",
      " [ 0.45190512]\n",
      " [ 2.20824213]\n",
      " [-1.19847937]\n",
      " [-0.62193577]\n",
      " [-2.88113166]\n",
      " [ 1.43542902]\n",
      " [-2.75651883]\n",
      " [ 0.31426561]\n",
      " [-0.85677649]\n",
      " [ 0.16174072]\n",
      " [-1.56866215]\n",
      " [-0.09190491]\n",
      " [ 2.19839355]\n",
      " [ 1.90174518]\n",
      " [ 2.69859397]\n",
      " [ 1.13463327]\n",
      " [-2.96456933]\n",
      " [ 1.50333816]\n",
      " [-0.25678815]\n",
      " [ 0.17652047]\n",
      " [ 0.18610177]\n",
      " [-1.17284288]\n",
      " [ 2.99289795]\n",
      " [ 0.59092825]\n",
      " [-0.06887629]\n",
      " [-0.68018903]\n",
      " [-2.88776815]\n",
      " [-2.09047181]\n",
      " [-0.94565166]\n",
      " [ 2.24538206]\n",
      " [-0.81092533]\n",
      " [ 1.52602363]\n",
      " [-2.68777039]\n",
      " [-1.66952748]\n",
      " [-1.94134113]\n",
      " [ 1.30545099]\n",
      " [-1.68208024]\n",
      " [ 1.88250767]\n",
      " [ 1.7123425 ]\n",
      " [ 2.64430966]\n",
      " [ 0.59531594]\n",
      " [-0.24405553]\n",
      " [ 1.57403475]\n",
      " [ 0.44529482]\n",
      " [-1.44243563]\n",
      " [ 2.55839326]\n",
      " [ 0.82410879]\n",
      " [ 1.07218057]\n",
      " [ 2.89551682]\n",
      " [ 1.68266844]\n",
      " [ 2.56461554]\n",
      " [ 1.32950222]\n",
      " [-1.1199222 ]\n",
      " [ 2.58114114]\n",
      " [-1.07721487]\n",
      " [ 1.11604322]\n",
      " [ 0.68026034]\n",
      " [ 0.9185059 ]\n",
      " [-2.72665225]\n",
      " [ 2.7681745 ]\n",
      " [ 0.03927851]\n",
      " [-2.54392806]\n",
      " [ 1.99547476]\n",
      " [ 2.5215374 ]\n",
      " [ 1.02473509]\n",
      " [ 2.87643747]\n",
      " [ 0.11426036]\n",
      " [-1.89976917]\n",
      " [ 1.89624444]\n",
      " [-0.05553943]\n",
      " [-2.79693639]\n",
      " [-2.45997127]\n",
      " [-2.89511112]\n",
      " [ 0.48962985]\n",
      " [ 1.89613484]\n",
      " [-1.46499821]\n",
      " [ 0.78895488]\n",
      " [ 2.99614926]\n",
      " [ 0.72519278]\n",
      " [-0.86567838]\n",
      " [ 0.34795815]\n",
      " [ 0.95344097]\n",
      " [ 2.16240357]\n",
      " [ 1.05850092]\n",
      " [-2.01265507]\n",
      " [-2.11560979]\n",
      " [ 0.83137556]\n",
      " [-2.71453883]\n",
      " [-2.98084782]\n",
      " [ 2.82197537]\n",
      " [-1.07316281]\n",
      " [-2.38686748]\n",
      " [-0.32561972]\n",
      " [ 0.18290445]\n",
      " [ 2.69209468]\n",
      " [ 1.96898793]\n",
      " [-0.27873432]\n",
      " [-0.6764669 ]\n",
      " [ 0.85456052]\n",
      " [ 0.29861925]\n",
      " [-0.82706893]\n",
      " [-1.93488912]\n",
      " [ 0.79051184]]\n"
     ]
    },
    {
     "data": {
      "text/plain": [
       "array([[ 22.20345998],\n",
       "       [ -5.76711091],\n",
       "       [ -1.80730456],\n",
       "       [ -6.40465763],\n",
       "       [  0.45388266],\n",
       "       [ -8.63454826],\n",
       "       [ 12.04036941],\n",
       "       [  0.63527642],\n",
       "       [  0.14956905],\n",
       "       [  0.84023512],\n",
       "       [  6.23325404],\n",
       "       [  3.20657685],\n",
       "       [  1.35185842],\n",
       "       [  1.78310526],\n",
       "       [ -6.47854588],\n",
       "       [  9.02230481],\n",
       "       [ -5.40113648],\n",
       "       [ -2.12061492],\n",
       "       [  4.9451498 ],\n",
       "       [  0.52035825],\n",
       "       [  0.04740335],\n",
       "       [ 11.69579103],\n",
       "       [ -1.2294533 ],\n",
       "       [ 11.88711812],\n",
       "       [ 25.61371569],\n",
       "       [ -2.78873977],\n",
       "       [  2.13233158],\n",
       "       [  4.29749527],\n",
       "       [  2.91172903],\n",
       "       [  3.25845875],\n",
       "       [ 22.55680876],\n",
       "       [  2.00077321],\n",
       "       [  1.33552705],\n",
       "       [  0.73474397],\n",
       "       [  3.47902692],\n",
       "       [ 20.79755482],\n",
       "       [  0.05400353],\n",
       "       [  1.11952966],\n",
       "       [ -5.2430403 ],\n",
       "       [  3.20402507],\n",
       "       [  1.55408551],\n",
       "       [ -2.7185077 ],\n",
       "       [ 19.49785052],\n",
       "       [ 14.75107585],\n",
       "       [  3.36153224],\n",
       "       [  3.08156474],\n",
       "       [  1.00602652],\n",
       "       [  0.77781854],\n",
       "       [ -0.72638998],\n",
       "       [  7.75355571],\n",
       "       [  0.98427588],\n",
       "       [  3.74892785],\n",
       "       [ -8.1580792 ],\n",
       "       [ -0.13157843],\n",
       "       [ -3.1493353 ],\n",
       "       [  1.58708041],\n",
       "       [ 28.31639149],\n",
       "       [ -9.0648623 ],\n",
       "       [ -5.03831256],\n",
       "       [  9.31422338],\n",
       "       [ -5.49908483],\n",
       "       [  3.00585693],\n",
       "       [  1.95619152],\n",
       "       [  1.93415865],\n",
       "       [ 24.82657377],\n",
       "       [  6.50544611],\n",
       "       [ -8.56035982],\n",
       "       [ 15.49155205],\n",
       "       [  1.90354464],\n",
       "       [  2.66964793],\n",
       "       [  5.83180295],\n",
       "       [  2.10174905],\n",
       "       [ -2.24088966],\n",
       "       [ 22.23186731],\n",
       "       [  0.29267972],\n",
       "       [ 15.96218001],\n",
       "       [  2.64542475],\n",
       "       [  1.71803937],\n",
       "       [  9.41614235],\n",
       "       [  1.85080636],\n",
       "       [  6.66549753],\n",
       "       [  1.79872974],\n",
       "       [  0.99538549],\n",
       "       [ 15.40747274],\n",
       "       [  1.39548512],\n",
       "       [  1.51122221],\n",
       "       [  1.64774039],\n",
       "       [ -2.19923458],\n",
       "       [  4.78921515],\n",
       "       [  7.49369208],\n",
       "       [ -3.58408747],\n",
       "       [  0.69118393],\n",
       "       [  1.45777858],\n",
       "       [  2.34023984],\n",
       "       [ -6.88319118],\n",
       "       [ 30.52129223],\n",
       "       [ 14.67824764],\n",
       "       [  3.58521059],\n",
       "       [ 14.09692858],\n",
       "       [ -0.637173  ],\n",
       "       [  1.22946288],\n",
       "       [-10.48815248],\n",
       "       [  7.38796415],\n",
       "       [ -8.55585976],\n",
       "       [  2.62702008],\n",
       "       [  2.36150328],\n",
       "       [  1.87258098],\n",
       "       [  2.01945773],\n",
       "       [  1.38499623],\n",
       "       [ 16.34311365],\n",
       "       [ 12.31532169],\n",
       "       [ 24.88725832],\n",
       "       [  6.12243309],\n",
       "       [-11.18623269],\n",
       "       [  7.70224699],\n",
       "       [  2.60496167],\n",
       "       [  1.31916796],\n",
       "       [  3.64774784],\n",
       "       [  0.77783816],\n",
       "       [ 31.2818244 ],\n",
       "       [  3.9069944 ],\n",
       "       [  0.71167958],\n",
       "       [  1.19658122],\n",
       "       [-10.36780842],\n",
       "       [ -2.73367277],\n",
       "       [  2.26376909],\n",
       "       [ 15.59537645],\n",
       "       [  0.59760277],\n",
       "       [  7.69692528],\n",
       "       [ -6.87981632],\n",
       "       [ -0.93635871],\n",
       "       [ -1.4367254 ],\n",
       "       [  7.50266064],\n",
       "       [  0.99225624],\n",
       "       [  9.15883419],\n",
       "       [  9.72316707],\n",
       "       [ 24.46235776],\n",
       "       [  3.07110115],\n",
       "       [  3.71525902],\n",
       "       [  5.86352423],\n",
       "       [  3.51572449],\n",
       "       [  1.98349938],\n",
       "       [ 18.524705  ],\n",
       "       [  3.79328773],\n",
       "       [  2.5589556 ],\n",
       "       [ 29.05813602],\n",
       "       [  9.20926802],\n",
       "       [ 21.73934836],\n",
       "       [  6.32793706],\n",
       "       [  1.21089301],\n",
       "       [ 20.77641051],\n",
       "       [ -0.08051975],\n",
       "       [  4.57033993],\n",
       "       [  4.11961736],\n",
       "       [  5.51315096],\n",
       "       [ -8.96722492],\n",
       "       [ 25.4371262 ],\n",
       "       [  2.96318371],\n",
       "       [ -5.88464614],\n",
       "       [ 12.74172628],\n",
       "       [ 20.77323396],\n",
       "       [  5.74042067],\n",
       "       [ 27.44555418],\n",
       "       [  2.49191848],\n",
       "       [ -1.32479211],\n",
       "       [ 12.50728998],\n",
       "       [  0.91445967],\n",
       "       [ -9.4849782 ],\n",
       "       [ -5.14849928],\n",
       "       [-11.4720377 ],\n",
       "       [  1.78471941],\n",
       "       [  9.19999552],\n",
       "       [ -0.7225062 ],\n",
       "       [  2.22938206],\n",
       "       [ 30.96818113],\n",
       "       [  3.98286272],\n",
       "       [  1.84325182],\n",
       "       [  3.10764521],\n",
       "       [  4.09952255],\n",
       "       [ 14.71715651],\n",
       "       [  4.80634715],\n",
       "       [ -2.44532774],\n",
       "       [ -3.09208213],\n",
       "       [  4.57271433],\n",
       "       [-10.06438295],\n",
       "       [-12.7673975 ],\n",
       "       [ 26.28479943],\n",
       "       [  1.96463358],\n",
       "       [ -3.80610445],\n",
       "       [  1.86213807],\n",
       "       [  4.24781667],\n",
       "       [ 23.89885885],\n",
       "       [ 11.42101814],\n",
       "       [  2.47894989],\n",
       "       [  1.39143379],\n",
       "       [  4.25018264],\n",
       "       [  1.44040108],\n",
       "       [  1.80794025],\n",
       "       [ -0.69100343],\n",
       "       [  2.74583005]])"
      ]
     },
     "execution_count": 17,
     "metadata": {},
     "output_type": "execute_result"
    }
   ],
   "source": [
    "print(x)\n",
    "y"
   ]
  },
  {
   "cell_type": "code",
   "execution_count": 18,
   "id": "1e1a5e5f",
   "metadata": {},
   "outputs": [],
   "source": [
    "pr = PolynomialFeatures(degree=3)\n",
    "x_poly = pr.fit_transform(x)"
   ]
  },
  {
   "cell_type": "code",
   "execution_count": 19,
   "id": "d02701b6",
   "metadata": {},
   "outputs": [
    {
     "data": {
      "text/html": [
       "<style>#sk-container-id-2 {color: black;background-color: white;}#sk-container-id-2 pre{padding: 0;}#sk-container-id-2 div.sk-toggleable {background-color: white;}#sk-container-id-2 label.sk-toggleable__label {cursor: pointer;display: block;width: 100%;margin-bottom: 0;padding: 0.3em;box-sizing: border-box;text-align: center;}#sk-container-id-2 label.sk-toggleable__label-arrow:before {content: \"▸\";float: left;margin-right: 0.25em;color: #696969;}#sk-container-id-2 label.sk-toggleable__label-arrow:hover:before {color: black;}#sk-container-id-2 div.sk-estimator:hover label.sk-toggleable__label-arrow:before {color: black;}#sk-container-id-2 div.sk-toggleable__content {max-height: 0;max-width: 0;overflow: hidden;text-align: left;background-color: #f0f8ff;}#sk-container-id-2 div.sk-toggleable__content pre {margin: 0.2em;color: black;border-radius: 0.25em;background-color: #f0f8ff;}#sk-container-id-2 input.sk-toggleable__control:checked~div.sk-toggleable__content {max-height: 200px;max-width: 100%;overflow: auto;}#sk-container-id-2 input.sk-toggleable__control:checked~label.sk-toggleable__label-arrow:before {content: \"▾\";}#sk-container-id-2 div.sk-estimator input.sk-toggleable__control:checked~label.sk-toggleable__label {background-color: #d4ebff;}#sk-container-id-2 div.sk-label input.sk-toggleable__control:checked~label.sk-toggleable__label {background-color: #d4ebff;}#sk-container-id-2 input.sk-hidden--visually {border: 0;clip: rect(1px 1px 1px 1px);clip: rect(1px, 1px, 1px, 1px);height: 1px;margin: -1px;overflow: hidden;padding: 0;position: absolute;width: 1px;}#sk-container-id-2 div.sk-estimator {font-family: monospace;background-color: #f0f8ff;border: 1px dotted black;border-radius: 0.25em;box-sizing: border-box;margin-bottom: 0.5em;}#sk-container-id-2 div.sk-estimator:hover {background-color: #d4ebff;}#sk-container-id-2 div.sk-parallel-item::after {content: \"\";width: 100%;border-bottom: 1px solid gray;flex-grow: 1;}#sk-container-id-2 div.sk-label:hover label.sk-toggleable__label {background-color: #d4ebff;}#sk-container-id-2 div.sk-serial::before {content: \"\";position: absolute;border-left: 1px solid gray;box-sizing: border-box;top: 0;bottom: 0;left: 50%;z-index: 0;}#sk-container-id-2 div.sk-serial {display: flex;flex-direction: column;align-items: center;background-color: white;padding-right: 0.2em;padding-left: 0.2em;position: relative;}#sk-container-id-2 div.sk-item {position: relative;z-index: 1;}#sk-container-id-2 div.sk-parallel {display: flex;align-items: stretch;justify-content: center;background-color: white;position: relative;}#sk-container-id-2 div.sk-item::before, #sk-container-id-2 div.sk-parallel-item::before {content: \"\";position: absolute;border-left: 1px solid gray;box-sizing: border-box;top: 0;bottom: 0;left: 50%;z-index: -1;}#sk-container-id-2 div.sk-parallel-item {display: flex;flex-direction: column;z-index: 1;position: relative;background-color: white;}#sk-container-id-2 div.sk-parallel-item:first-child::after {align-self: flex-end;width: 50%;}#sk-container-id-2 div.sk-parallel-item:last-child::after {align-self: flex-start;width: 50%;}#sk-container-id-2 div.sk-parallel-item:only-child::after {width: 0;}#sk-container-id-2 div.sk-dashed-wrapped {border: 1px dashed gray;margin: 0 0.4em 0.5em 0.4em;box-sizing: border-box;padding-bottom: 0.4em;background-color: white;}#sk-container-id-2 div.sk-label label {font-family: monospace;font-weight: bold;display: inline-block;line-height: 1.2em;}#sk-container-id-2 div.sk-label-container {text-align: center;}#sk-container-id-2 div.sk-container {/* jupyter's `normalize.less` sets `[hidden] { display: none; }` but bootstrap.min.css set `[hidden] { display: none !important; }` so we also need the `!important` here to be able to override the default hidden behavior on the sphinx rendered scikit-learn.org. See: https://github.com/scikit-learn/scikit-learn/issues/21755 */display: inline-block !important;position: relative;}#sk-container-id-2 div.sk-text-repr-fallback {display: none;}</style><div id=\"sk-container-id-2\" class=\"sk-top-container\"><div class=\"sk-text-repr-fallback\"><pre>LinearRegression()</pre><b>In a Jupyter environment, please rerun this cell to show the HTML representation or trust the notebook. <br />On GitHub, the HTML representation is unable to render, please try loading this page with nbviewer.org.</b></div><div class=\"sk-container\" hidden><div class=\"sk-item\"><div class=\"sk-estimator sk-toggleable\"><input class=\"sk-toggleable__control sk-hidden--visually\" id=\"sk-estimator-id-2\" type=\"checkbox\" checked><label for=\"sk-estimator-id-2\" class=\"sk-toggleable__label sk-toggleable__label-arrow\">LinearRegression</label><div class=\"sk-toggleable__content\"><pre>LinearRegression()</pre></div></div></div></div></div>"
      ],
      "text/plain": [
       "LinearRegression()"
      ]
     },
     "execution_count": 19,
     "metadata": {},
     "output_type": "execute_result"
    }
   ],
   "source": [
    "lr = LinearRegression()\n",
    "lr.fit(x_poly, y)"
   ]
  },
  {
   "cell_type": "code",
   "execution_count": 20,
   "id": "1215b47e",
   "metadata": {},
   "outputs": [],
   "source": [
    "y_pred = lr.predict(x_poly)"
   ]
  },
  {
   "cell_type": "code",
   "execution_count": 21,
   "id": "53ad9030",
   "metadata": {},
   "outputs": [
    {
     "data": {
      "text/plain": [
       "0.9874387063042062"
      ]
     },
     "execution_count": 21,
     "metadata": {},
     "output_type": "execute_result"
    }
   ],
   "source": [
    "r2_score(y, y_pred)"
   ]
  },
  {
   "cell_type": "code",
   "execution_count": null,
   "id": "1d44afd4",
   "metadata": {},
   "outputs": [],
   "source": []
  },
  {
   "cell_type": "markdown",
   "id": "32014a2e",
   "metadata": {},
   "source": [
    "# Question 2)"
   ]
  },
  {
   "cell_type": "markdown",
   "id": "cee31995",
   "metadata": {},
   "source": [
    "<p> <h3>Find accuracy score for degree2,3, 4, 5,6,7,8 for above data, display best suitable degree for \n",
    "the scenario, also display coefficients. </h3>  \n",
    "\n",
    "    \n",
    "</p>"
   ]
  },
  {
   "cell_type": "code",
   "execution_count": 22,
   "id": "27f726a2",
   "metadata": {},
   "outputs": [
    {
     "data": {
      "text/plain": [
       "0.8842704838627089"
      ]
     },
     "execution_count": 22,
     "metadata": {},
     "output_type": "execute_result"
    }
   ],
   "source": [
    "# Checking best degrees for polynomial Features\n",
    "# Appending r2_scores in empty list\n",
    "scores = []\n",
    "\n",
    "pr = PolynomialFeatures(degree=2)\n",
    "x_poly = pr.fit_transform(x)\n",
    "\n",
    "lr.fit(x_poly, y)\n",
    "\n",
    "y_pred = lr.predict(x_poly)\n",
    "\n",
    "val = r2_score(y, y_pred)\n",
    "scores.append(val)\n",
    "val"
   ]
  },
  {
   "cell_type": "code",
   "execution_count": 23,
   "id": "55ecf31f",
   "metadata": {},
   "outputs": [
    {
     "data": {
      "text/plain": [
       "0.9874387063042062"
      ]
     },
     "execution_count": 23,
     "metadata": {},
     "output_type": "execute_result"
    }
   ],
   "source": [
    "pr = PolynomialFeatures(degree=3)\n",
    "x_poly = pr.fit_transform(x)\n",
    "\n",
    "lr.fit(x_poly, y)\n",
    "\n",
    "y_pred = lr.predict(x_poly)\n",
    "\n",
    "val = r2_score(y, y_pred)\n",
    "scores.append(val)\n",
    "val"
   ]
  },
  {
   "cell_type": "code",
   "execution_count": 24,
   "id": "e246f11b",
   "metadata": {},
   "outputs": [
    {
     "data": {
      "text/plain": [
       "0.9874410692500979"
      ]
     },
     "execution_count": 24,
     "metadata": {},
     "output_type": "execute_result"
    }
   ],
   "source": [
    "pr = PolynomialFeatures(degree=4)\n",
    "x_poly = pr.fit_transform(x)\n",
    "\n",
    "lr.fit(x_poly, y)\n",
    "\n",
    "y_pred = lr.predict(x_poly)\n",
    "\n",
    "val = r2_score(y, y_pred)\n",
    "scores.append(val)\n",
    "val"
   ]
  },
  {
   "cell_type": "code",
   "execution_count": 25,
   "id": "b9e55658",
   "metadata": {},
   "outputs": [
    {
     "data": {
      "text/plain": [
       "0.987514922119399"
      ]
     },
     "execution_count": 25,
     "metadata": {},
     "output_type": "execute_result"
    }
   ],
   "source": [
    "pr = PolynomialFeatures(degree=5)\n",
    "x_poly = pr.fit_transform(x)\n",
    "\n",
    "lr.fit(x_poly, y)\n",
    "\n",
    "y_pred = lr.predict(x_poly)\n",
    "\n",
    "val = r2_score(y, y_pred)\n",
    "scores.append(val)\n",
    "val"
   ]
  },
  {
   "cell_type": "code",
   "execution_count": 26,
   "id": "88a638d4",
   "metadata": {},
   "outputs": [
    {
     "data": {
      "text/plain": [
       "0.9875149233817535"
      ]
     },
     "execution_count": 26,
     "metadata": {},
     "output_type": "execute_result"
    }
   ],
   "source": [
    "pr = PolynomialFeatures(degree=6)\n",
    "x_poly = pr.fit_transform(x)\n",
    "\n",
    "lr.fit(x_poly, y)\n",
    "\n",
    "y_pred = lr.predict(x_poly)\n",
    "\n",
    "val = r2_score(y, y_pred)\n",
    "scores.append(val)\n",
    "val"
   ]
  },
  {
   "cell_type": "code",
   "execution_count": 27,
   "id": "c768bd9f",
   "metadata": {},
   "outputs": [
    {
     "data": {
      "text/plain": [
       "0.9875157155154602"
      ]
     },
     "execution_count": 27,
     "metadata": {},
     "output_type": "execute_result"
    }
   ],
   "source": [
    "pr = PolynomialFeatures(degree=7)\n",
    "x_poly = pr.fit_transform(x)\n",
    "\n",
    "lr.fit(x_poly, y)\n",
    "\n",
    "y_pred = lr.predict(x_poly)\n",
    "\n",
    "val = r2_score(y, y_pred)\n",
    "scores.append(val)\n",
    "val"
   ]
  },
  {
   "cell_type": "code",
   "execution_count": 28,
   "id": "1ff44e06",
   "metadata": {},
   "outputs": [
    {
     "data": {
      "text/plain": [
       "0.987524871582782"
      ]
     },
     "execution_count": 28,
     "metadata": {},
     "output_type": "execute_result"
    }
   ],
   "source": [
    "pr = PolynomialFeatures(degree=8)\n",
    "x_poly = pr.fit_transform(x)\n",
    "\n",
    "lr.fit(x_poly, y)\n",
    "\n",
    "y_pred = lr.predict(x_poly)\n",
    "y_pred = lr.predict(x_poly)\n",
    "\n",
    "val = r2_score(y, y_pred)\n",
    "scores.append(val)\n",
    "val"
   ]
  },
  {
   "cell_type": "code",
   "execution_count": 29,
   "id": "b34a700a",
   "metadata": {},
   "outputs": [
    {
     "name": "stdout",
     "output_type": "stream",
     "text": [
      "Best Degree = 8\n",
      "R2 score = 0.987524871582782\n"
     ]
    }
   ],
   "source": [
    "max_score = np.max(scores)\n",
    "index = np.argmax(scores)\n",
    "\n",
    "print(\"Best Degree =\", index+2)\n",
    "print(\"R2 score =\", max_score)\n",
    "\n",
    "# Conclusion - best degree is 8 with r2_score at 0.9865 "
   ]
  },
  {
   "cell_type": "code",
   "execution_count": null,
   "id": "db60c0a1",
   "metadata": {},
   "outputs": [],
   "source": []
  },
  {
   "cell_type": "markdown",
   "id": "129befbf",
   "metadata": {},
   "source": [
    "<p> <h3>Use hiring.csv. This file contains hiring statics for a firm such as experience of \n",
    "candidate, his written test score and personal interview score. Based on these 3 factors, \n",
    "HR will decide the salary. Given this data, you need to build a machine learning model for \n",
    "HR department that can help them decide salaries for future candidates. Using this \n",
    "predict salaries for following candidates </h3>  \n",
    "\n",
    "    2 yr experience, 9 test score, 6 interview score\n",
    "    12 yr experience, 10 test score, 10 interview score    \n",
    "</p>"
   ]
  },
  {
   "cell_type": "code",
   "execution_count": 30,
   "id": "736557ed",
   "metadata": {},
   "outputs": [
    {
     "data": {
      "text/html": [
       "<div>\n",
       "<style scoped>\n",
       "    .dataframe tbody tr th:only-of-type {\n",
       "        vertical-align: middle;\n",
       "    }\n",
       "\n",
       "    .dataframe tbody tr th {\n",
       "        vertical-align: top;\n",
       "    }\n",
       "\n",
       "    .dataframe thead th {\n",
       "        text-align: right;\n",
       "    }\n",
       "</style>\n",
       "<table border=\"1\" class=\"dataframe\">\n",
       "  <thead>\n",
       "    <tr style=\"text-align: right;\">\n",
       "      <th></th>\n",
       "      <th>experience</th>\n",
       "      <th>test_score(out of 10)</th>\n",
       "      <th>interview_score(out of 10)</th>\n",
       "      <th>salary($)</th>\n",
       "    </tr>\n",
       "  </thead>\n",
       "  <tbody>\n",
       "    <tr>\n",
       "      <th>0</th>\n",
       "      <td>NaN</td>\n",
       "      <td>8.0</td>\n",
       "      <td>9</td>\n",
       "      <td>50000</td>\n",
       "    </tr>\n",
       "    <tr>\n",
       "      <th>1</th>\n",
       "      <td>NaN</td>\n",
       "      <td>8.0</td>\n",
       "      <td>6</td>\n",
       "      <td>45000</td>\n",
       "    </tr>\n",
       "    <tr>\n",
       "      <th>2</th>\n",
       "      <td>five</td>\n",
       "      <td>6.0</td>\n",
       "      <td>7</td>\n",
       "      <td>60000</td>\n",
       "    </tr>\n",
       "    <tr>\n",
       "      <th>3</th>\n",
       "      <td>two</td>\n",
       "      <td>10.0</td>\n",
       "      <td>10</td>\n",
       "      <td>65000</td>\n",
       "    </tr>\n",
       "    <tr>\n",
       "      <th>4</th>\n",
       "      <td>seven</td>\n",
       "      <td>9.0</td>\n",
       "      <td>6</td>\n",
       "      <td>70000</td>\n",
       "    </tr>\n",
       "    <tr>\n",
       "      <th>5</th>\n",
       "      <td>three</td>\n",
       "      <td>7.0</td>\n",
       "      <td>10</td>\n",
       "      <td>62000</td>\n",
       "    </tr>\n",
       "    <tr>\n",
       "      <th>6</th>\n",
       "      <td>ten</td>\n",
       "      <td>NaN</td>\n",
       "      <td>7</td>\n",
       "      <td>72000</td>\n",
       "    </tr>\n",
       "    <tr>\n",
       "      <th>7</th>\n",
       "      <td>eleven</td>\n",
       "      <td>7.0</td>\n",
       "      <td>8</td>\n",
       "      <td>80000</td>\n",
       "    </tr>\n",
       "  </tbody>\n",
       "</table>\n",
       "</div>"
      ],
      "text/plain": [
       "  experience  test_score(out of 10)  interview_score(out of 10)  salary($)\n",
       "0        NaN                    8.0                           9      50000\n",
       "1        NaN                    8.0                           6      45000\n",
       "2       five                    6.0                           7      60000\n",
       "3        two                   10.0                          10      65000\n",
       "4      seven                    9.0                           6      70000\n",
       "5      three                    7.0                          10      62000\n",
       "6        ten                    NaN                           7      72000\n",
       "7     eleven                    7.0                           8      80000"
      ]
     },
     "execution_count": 30,
     "metadata": {},
     "output_type": "execute_result"
    }
   ],
   "source": [
    "df = pd.read_csv(r\"C:\\Users\\patil\\Desktop\\Know IT CADC\\Practical Machine Learning\\Common_Folder\\Day 3\\hiring.csv\")\n",
    "df"
   ]
  },
  {
   "cell_type": "code",
   "execution_count": 31,
   "id": "5bbf7216",
   "metadata": {},
   "outputs": [],
   "source": [
    "x = df.drop('salary($)', axis=1)\n",
    "y = df['salary($)']"
   ]
  },
  {
   "cell_type": "code",
   "execution_count": 32,
   "id": "2e24de3a",
   "metadata": {},
   "outputs": [],
   "source": [
    "temp = df['experience'].values"
   ]
  },
  {
   "cell_type": "code",
   "execution_count": 33,
   "id": "79925967",
   "metadata": {},
   "outputs": [
    {
     "data": {
      "text/html": [
       "<div>\n",
       "<style scoped>\n",
       "    .dataframe tbody tr th:only-of-type {\n",
       "        vertical-align: middle;\n",
       "    }\n",
       "\n",
       "    .dataframe tbody tr th {\n",
       "        vertical-align: top;\n",
       "    }\n",
       "\n",
       "    .dataframe thead th {\n",
       "        text-align: right;\n",
       "    }\n",
       "</style>\n",
       "<table border=\"1\" class=\"dataframe\">\n",
       "  <thead>\n",
       "    <tr style=\"text-align: right;\">\n",
       "      <th></th>\n",
       "      <th>experience</th>\n",
       "      <th>test_score(out of 10)</th>\n",
       "      <th>interview_score(out of 10)</th>\n",
       "    </tr>\n",
       "  </thead>\n",
       "  <tbody>\n",
       "    <tr>\n",
       "      <th>0</th>\n",
       "      <td>zero</td>\n",
       "      <td>8.0</td>\n",
       "      <td>9</td>\n",
       "    </tr>\n",
       "    <tr>\n",
       "      <th>1</th>\n",
       "      <td>zero</td>\n",
       "      <td>8.0</td>\n",
       "      <td>6</td>\n",
       "    </tr>\n",
       "    <tr>\n",
       "      <th>2</th>\n",
       "      <td>five</td>\n",
       "      <td>6.0</td>\n",
       "      <td>7</td>\n",
       "    </tr>\n",
       "    <tr>\n",
       "      <th>3</th>\n",
       "      <td>two</td>\n",
       "      <td>10.0</td>\n",
       "      <td>10</td>\n",
       "    </tr>\n",
       "    <tr>\n",
       "      <th>4</th>\n",
       "      <td>seven</td>\n",
       "      <td>9.0</td>\n",
       "      <td>6</td>\n",
       "    </tr>\n",
       "    <tr>\n",
       "      <th>5</th>\n",
       "      <td>three</td>\n",
       "      <td>7.0</td>\n",
       "      <td>10</td>\n",
       "    </tr>\n",
       "    <tr>\n",
       "      <th>6</th>\n",
       "      <td>ten</td>\n",
       "      <td>NaN</td>\n",
       "      <td>7</td>\n",
       "    </tr>\n",
       "    <tr>\n",
       "      <th>7</th>\n",
       "      <td>eleven</td>\n",
       "      <td>7.0</td>\n",
       "      <td>8</td>\n",
       "    </tr>\n",
       "  </tbody>\n",
       "</table>\n",
       "</div>"
      ],
      "text/plain": [
       "  experience  test_score(out of 10)  interview_score(out of 10)\n",
       "0       zero                    8.0                           9\n",
       "1       zero                    8.0                           6\n",
       "2       five                    6.0                           7\n",
       "3        two                   10.0                          10\n",
       "4      seven                    9.0                           6\n",
       "5      three                    7.0                          10\n",
       "6        ten                    NaN                           7\n",
       "7     eleven                    7.0                           8"
      ]
     },
     "execution_count": 33,
     "metadata": {},
     "output_type": "execute_result"
    }
   ],
   "source": [
    "se = SimpleImputer(strategy='constant', fill_value='zero')\n",
    "\n",
    "temp = se.fit_transform(temp.reshape(-1,1))\n",
    "\n",
    "x['experience'] = temp\n",
    "x"
   ]
  },
  {
   "cell_type": "code",
   "execution_count": 34,
   "id": "3d4dd6ea",
   "metadata": {},
   "outputs": [
    {
     "data": {
      "text/html": [
       "<style>#sk-container-id-3 {color: black;background-color: white;}#sk-container-id-3 pre{padding: 0;}#sk-container-id-3 div.sk-toggleable {background-color: white;}#sk-container-id-3 label.sk-toggleable__label {cursor: pointer;display: block;width: 100%;margin-bottom: 0;padding: 0.3em;box-sizing: border-box;text-align: center;}#sk-container-id-3 label.sk-toggleable__label-arrow:before {content: \"▸\";float: left;margin-right: 0.25em;color: #696969;}#sk-container-id-3 label.sk-toggleable__label-arrow:hover:before {color: black;}#sk-container-id-3 div.sk-estimator:hover label.sk-toggleable__label-arrow:before {color: black;}#sk-container-id-3 div.sk-toggleable__content {max-height: 0;max-width: 0;overflow: hidden;text-align: left;background-color: #f0f8ff;}#sk-container-id-3 div.sk-toggleable__content pre {margin: 0.2em;color: black;border-radius: 0.25em;background-color: #f0f8ff;}#sk-container-id-3 input.sk-toggleable__control:checked~div.sk-toggleable__content {max-height: 200px;max-width: 100%;overflow: auto;}#sk-container-id-3 input.sk-toggleable__control:checked~label.sk-toggleable__label-arrow:before {content: \"▾\";}#sk-container-id-3 div.sk-estimator input.sk-toggleable__control:checked~label.sk-toggleable__label {background-color: #d4ebff;}#sk-container-id-3 div.sk-label input.sk-toggleable__control:checked~label.sk-toggleable__label {background-color: #d4ebff;}#sk-container-id-3 input.sk-hidden--visually {border: 0;clip: rect(1px 1px 1px 1px);clip: rect(1px, 1px, 1px, 1px);height: 1px;margin: -1px;overflow: hidden;padding: 0;position: absolute;width: 1px;}#sk-container-id-3 div.sk-estimator {font-family: monospace;background-color: #f0f8ff;border: 1px dotted black;border-radius: 0.25em;box-sizing: border-box;margin-bottom: 0.5em;}#sk-container-id-3 div.sk-estimator:hover {background-color: #d4ebff;}#sk-container-id-3 div.sk-parallel-item::after {content: \"\";width: 100%;border-bottom: 1px solid gray;flex-grow: 1;}#sk-container-id-3 div.sk-label:hover label.sk-toggleable__label {background-color: #d4ebff;}#sk-container-id-3 div.sk-serial::before {content: \"\";position: absolute;border-left: 1px solid gray;box-sizing: border-box;top: 0;bottom: 0;left: 50%;z-index: 0;}#sk-container-id-3 div.sk-serial {display: flex;flex-direction: column;align-items: center;background-color: white;padding-right: 0.2em;padding-left: 0.2em;position: relative;}#sk-container-id-3 div.sk-item {position: relative;z-index: 1;}#sk-container-id-3 div.sk-parallel {display: flex;align-items: stretch;justify-content: center;background-color: white;position: relative;}#sk-container-id-3 div.sk-item::before, #sk-container-id-3 div.sk-parallel-item::before {content: \"\";position: absolute;border-left: 1px solid gray;box-sizing: border-box;top: 0;bottom: 0;left: 50%;z-index: -1;}#sk-container-id-3 div.sk-parallel-item {display: flex;flex-direction: column;z-index: 1;position: relative;background-color: white;}#sk-container-id-3 div.sk-parallel-item:first-child::after {align-self: flex-end;width: 50%;}#sk-container-id-3 div.sk-parallel-item:last-child::after {align-self: flex-start;width: 50%;}#sk-container-id-3 div.sk-parallel-item:only-child::after {width: 0;}#sk-container-id-3 div.sk-dashed-wrapped {border: 1px dashed gray;margin: 0 0.4em 0.5em 0.4em;box-sizing: border-box;padding-bottom: 0.4em;background-color: white;}#sk-container-id-3 div.sk-label label {font-family: monospace;font-weight: bold;display: inline-block;line-height: 1.2em;}#sk-container-id-3 div.sk-label-container {text-align: center;}#sk-container-id-3 div.sk-container {/* jupyter's `normalize.less` sets `[hidden] { display: none; }` but bootstrap.min.css set `[hidden] { display: none !important; }` so we also need the `!important` here to be able to override the default hidden behavior on the sphinx rendered scikit-learn.org. See: https://github.com/scikit-learn/scikit-learn/issues/21755 */display: inline-block !important;position: relative;}#sk-container-id-3 div.sk-text-repr-fallback {display: none;}</style><div id=\"sk-container-id-3\" class=\"sk-top-container\"><div class=\"sk-text-repr-fallback\"><pre>ColumnTransformer(remainder=&#x27;passthrough&#x27;,\n",
       "                  transformers=[(&#x27;col2&#x27;, SimpleImputer(), [1]),\n",
       "                                (&#x27;col3&#x27;,\n",
       "                                 OrdinalEncoder(categories=[[&#x27;zero&#x27;, &#x27;two&#x27;,\n",
       "                                                             &#x27;three&#x27;, &#x27;five&#x27;,\n",
       "                                                             &#x27;seven&#x27;, &#x27;ten&#x27;,\n",
       "                                                             &#x27;eleven&#x27;]]),\n",
       "                                 [0])])</pre><b>In a Jupyter environment, please rerun this cell to show the HTML representation or trust the notebook. <br />On GitHub, the HTML representation is unable to render, please try loading this page with nbviewer.org.</b></div><div class=\"sk-container\" hidden><div class=\"sk-item sk-dashed-wrapped\"><div class=\"sk-label-container\"><div class=\"sk-label sk-toggleable\"><input class=\"sk-toggleable__control sk-hidden--visually\" id=\"sk-estimator-id-3\" type=\"checkbox\" ><label for=\"sk-estimator-id-3\" class=\"sk-toggleable__label sk-toggleable__label-arrow\">ColumnTransformer</label><div class=\"sk-toggleable__content\"><pre>ColumnTransformer(remainder=&#x27;passthrough&#x27;,\n",
       "                  transformers=[(&#x27;col2&#x27;, SimpleImputer(), [1]),\n",
       "                                (&#x27;col3&#x27;,\n",
       "                                 OrdinalEncoder(categories=[[&#x27;zero&#x27;, &#x27;two&#x27;,\n",
       "                                                             &#x27;three&#x27;, &#x27;five&#x27;,\n",
       "                                                             &#x27;seven&#x27;, &#x27;ten&#x27;,\n",
       "                                                             &#x27;eleven&#x27;]]),\n",
       "                                 [0])])</pre></div></div></div><div class=\"sk-parallel\"><div class=\"sk-parallel-item\"><div class=\"sk-item\"><div class=\"sk-label-container\"><div class=\"sk-label sk-toggleable\"><input class=\"sk-toggleable__control sk-hidden--visually\" id=\"sk-estimator-id-4\" type=\"checkbox\" ><label for=\"sk-estimator-id-4\" class=\"sk-toggleable__label sk-toggleable__label-arrow\">col2</label><div class=\"sk-toggleable__content\"><pre>[1]</pre></div></div></div><div class=\"sk-serial\"><div class=\"sk-item\"><div class=\"sk-estimator sk-toggleable\"><input class=\"sk-toggleable__control sk-hidden--visually\" id=\"sk-estimator-id-5\" type=\"checkbox\" ><label for=\"sk-estimator-id-5\" class=\"sk-toggleable__label sk-toggleable__label-arrow\">SimpleImputer</label><div class=\"sk-toggleable__content\"><pre>SimpleImputer()</pre></div></div></div></div></div></div><div class=\"sk-parallel-item\"><div class=\"sk-item\"><div class=\"sk-label-container\"><div class=\"sk-label sk-toggleable\"><input class=\"sk-toggleable__control sk-hidden--visually\" id=\"sk-estimator-id-6\" type=\"checkbox\" ><label for=\"sk-estimator-id-6\" class=\"sk-toggleable__label sk-toggleable__label-arrow\">col3</label><div class=\"sk-toggleable__content\"><pre>[0]</pre></div></div></div><div class=\"sk-serial\"><div class=\"sk-item\"><div class=\"sk-estimator sk-toggleable\"><input class=\"sk-toggleable__control sk-hidden--visually\" id=\"sk-estimator-id-7\" type=\"checkbox\" ><label for=\"sk-estimator-id-7\" class=\"sk-toggleable__label sk-toggleable__label-arrow\">OrdinalEncoder</label><div class=\"sk-toggleable__content\"><pre>OrdinalEncoder(categories=[[&#x27;zero&#x27;, &#x27;two&#x27;, &#x27;three&#x27;, &#x27;five&#x27;, &#x27;seven&#x27;, &#x27;ten&#x27;,\n",
       "                            &#x27;eleven&#x27;]])</pre></div></div></div></div></div></div><div class=\"sk-parallel-item\"><div class=\"sk-item\"><div class=\"sk-label-container\"><div class=\"sk-label sk-toggleable\"><input class=\"sk-toggleable__control sk-hidden--visually\" id=\"sk-estimator-id-8\" type=\"checkbox\" ><label for=\"sk-estimator-id-8\" class=\"sk-toggleable__label sk-toggleable__label-arrow\">remainder</label><div class=\"sk-toggleable__content\"><pre></pre></div></div></div><div class=\"sk-serial\"><div class=\"sk-item\"><div class=\"sk-estimator sk-toggleable\"><input class=\"sk-toggleable__control sk-hidden--visually\" id=\"sk-estimator-id-9\" type=\"checkbox\" ><label for=\"sk-estimator-id-9\" class=\"sk-toggleable__label sk-toggleable__label-arrow\">passthrough</label><div class=\"sk-toggleable__content\"><pre>passthrough</pre></div></div></div></div></div></div></div></div></div></div>"
      ],
      "text/plain": [
       "ColumnTransformer(remainder='passthrough',\n",
       "                  transformers=[('col2', SimpleImputer(), [1]),\n",
       "                                ('col3',\n",
       "                                 OrdinalEncoder(categories=[['zero', 'two',\n",
       "                                                             'three', 'five',\n",
       "                                                             'seven', 'ten',\n",
       "                                                             'eleven']]),\n",
       "                                 [0])])"
      ]
     },
     "execution_count": 34,
     "metadata": {},
     "output_type": "execute_result"
    }
   ],
   "source": [
    "transformer = ColumnTransformer(transformers=[('col2', SimpleImputer(), [1]), \n",
    "                                               ('col3', OrdinalEncoder(categories=[['zero', 'two', 'three', 'five', 'seven', 'ten', 'eleven']]), [0])]\n",
    "                               ,remainder='passthrough')\n",
    "transformer"
   ]
  },
  {
   "cell_type": "code",
   "execution_count": 35,
   "id": "d4566966",
   "metadata": {},
   "outputs": [],
   "source": [
    "x = transformer.fit_transform(x)"
   ]
  },
  {
   "cell_type": "code",
   "execution_count": 36,
   "id": "a1ae26ed",
   "metadata": {},
   "outputs": [
    {
     "data": {
      "text/plain": [
       "array([[ 8.        ,  0.        ,  9.        ],\n",
       "       [ 8.        ,  0.        ,  6.        ],\n",
       "       [ 6.        ,  3.        ,  7.        ],\n",
       "       [10.        ,  1.        , 10.        ],\n",
       "       [ 9.        ,  4.        ,  6.        ],\n",
       "       [ 7.        ,  2.        , 10.        ],\n",
       "       [ 7.85714286,  5.        ,  7.        ],\n",
       "       [ 7.        ,  6.        ,  8.        ]])"
      ]
     },
     "execution_count": 36,
     "metadata": {},
     "output_type": "execute_result"
    }
   ],
   "source": [
    "x"
   ]
  },
  {
   "cell_type": "code",
   "execution_count": 37,
   "id": "425dc5dd",
   "metadata": {},
   "outputs": [],
   "source": [
    "lr = LinearRegression()"
   ]
  },
  {
   "cell_type": "code",
   "execution_count": 38,
   "id": "2a645819",
   "metadata": {},
   "outputs": [],
   "source": [
    "#pr = PolynomialFeatures(degree=3)\n",
    "#x_poly = pr.fit_transform(x)"
   ]
  },
  {
   "cell_type": "code",
   "execution_count": 39,
   "id": "203601da",
   "metadata": {},
   "outputs": [
    {
     "data": {
      "text/html": [
       "<style>#sk-container-id-4 {color: black;background-color: white;}#sk-container-id-4 pre{padding: 0;}#sk-container-id-4 div.sk-toggleable {background-color: white;}#sk-container-id-4 label.sk-toggleable__label {cursor: pointer;display: block;width: 100%;margin-bottom: 0;padding: 0.3em;box-sizing: border-box;text-align: center;}#sk-container-id-4 label.sk-toggleable__label-arrow:before {content: \"▸\";float: left;margin-right: 0.25em;color: #696969;}#sk-container-id-4 label.sk-toggleable__label-arrow:hover:before {color: black;}#sk-container-id-4 div.sk-estimator:hover label.sk-toggleable__label-arrow:before {color: black;}#sk-container-id-4 div.sk-toggleable__content {max-height: 0;max-width: 0;overflow: hidden;text-align: left;background-color: #f0f8ff;}#sk-container-id-4 div.sk-toggleable__content pre {margin: 0.2em;color: black;border-radius: 0.25em;background-color: #f0f8ff;}#sk-container-id-4 input.sk-toggleable__control:checked~div.sk-toggleable__content {max-height: 200px;max-width: 100%;overflow: auto;}#sk-container-id-4 input.sk-toggleable__control:checked~label.sk-toggleable__label-arrow:before {content: \"▾\";}#sk-container-id-4 div.sk-estimator input.sk-toggleable__control:checked~label.sk-toggleable__label {background-color: #d4ebff;}#sk-container-id-4 div.sk-label input.sk-toggleable__control:checked~label.sk-toggleable__label {background-color: #d4ebff;}#sk-container-id-4 input.sk-hidden--visually {border: 0;clip: rect(1px 1px 1px 1px);clip: rect(1px, 1px, 1px, 1px);height: 1px;margin: -1px;overflow: hidden;padding: 0;position: absolute;width: 1px;}#sk-container-id-4 div.sk-estimator {font-family: monospace;background-color: #f0f8ff;border: 1px dotted black;border-radius: 0.25em;box-sizing: border-box;margin-bottom: 0.5em;}#sk-container-id-4 div.sk-estimator:hover {background-color: #d4ebff;}#sk-container-id-4 div.sk-parallel-item::after {content: \"\";width: 100%;border-bottom: 1px solid gray;flex-grow: 1;}#sk-container-id-4 div.sk-label:hover label.sk-toggleable__label {background-color: #d4ebff;}#sk-container-id-4 div.sk-serial::before {content: \"\";position: absolute;border-left: 1px solid gray;box-sizing: border-box;top: 0;bottom: 0;left: 50%;z-index: 0;}#sk-container-id-4 div.sk-serial {display: flex;flex-direction: column;align-items: center;background-color: white;padding-right: 0.2em;padding-left: 0.2em;position: relative;}#sk-container-id-4 div.sk-item {position: relative;z-index: 1;}#sk-container-id-4 div.sk-parallel {display: flex;align-items: stretch;justify-content: center;background-color: white;position: relative;}#sk-container-id-4 div.sk-item::before, #sk-container-id-4 div.sk-parallel-item::before {content: \"\";position: absolute;border-left: 1px solid gray;box-sizing: border-box;top: 0;bottom: 0;left: 50%;z-index: -1;}#sk-container-id-4 div.sk-parallel-item {display: flex;flex-direction: column;z-index: 1;position: relative;background-color: white;}#sk-container-id-4 div.sk-parallel-item:first-child::after {align-self: flex-end;width: 50%;}#sk-container-id-4 div.sk-parallel-item:last-child::after {align-self: flex-start;width: 50%;}#sk-container-id-4 div.sk-parallel-item:only-child::after {width: 0;}#sk-container-id-4 div.sk-dashed-wrapped {border: 1px dashed gray;margin: 0 0.4em 0.5em 0.4em;box-sizing: border-box;padding-bottom: 0.4em;background-color: white;}#sk-container-id-4 div.sk-label label {font-family: monospace;font-weight: bold;display: inline-block;line-height: 1.2em;}#sk-container-id-4 div.sk-label-container {text-align: center;}#sk-container-id-4 div.sk-container {/* jupyter's `normalize.less` sets `[hidden] { display: none; }` but bootstrap.min.css set `[hidden] { display: none !important; }` so we also need the `!important` here to be able to override the default hidden behavior on the sphinx rendered scikit-learn.org. See: https://github.com/scikit-learn/scikit-learn/issues/21755 */display: inline-block !important;position: relative;}#sk-container-id-4 div.sk-text-repr-fallback {display: none;}</style><div id=\"sk-container-id-4\" class=\"sk-top-container\"><div class=\"sk-text-repr-fallback\"><pre>LinearRegression()</pre><b>In a Jupyter environment, please rerun this cell to show the HTML representation or trust the notebook. <br />On GitHub, the HTML representation is unable to render, please try loading this page with nbviewer.org.</b></div><div class=\"sk-container\" hidden><div class=\"sk-item\"><div class=\"sk-estimator sk-toggleable\"><input class=\"sk-toggleable__control sk-hidden--visually\" id=\"sk-estimator-id-10\" type=\"checkbox\" checked><label for=\"sk-estimator-id-10\" class=\"sk-toggleable__label sk-toggleable__label-arrow\">LinearRegression</label><div class=\"sk-toggleable__content\"><pre>LinearRegression()</pre></div></div></div></div></div>"
      ],
      "text/plain": [
       "LinearRegression()"
      ]
     },
     "execution_count": 39,
     "metadata": {},
     "output_type": "execute_result"
    }
   ],
   "source": [
    "lr.fit(x, y)"
   ]
  },
  {
   "cell_type": "code",
   "execution_count": 42,
   "id": "17e99691",
   "metadata": {},
   "outputs": [
    {
     "data": {
      "text/plain": [
       "0.9890628633512363"
      ]
     },
     "execution_count": 42,
     "metadata": {},
     "output_type": "execute_result"
    }
   ],
   "source": [
    "y_pred = lr.predict(x)\n",
    "r2_score(y, y_pred)"
   ]
  },
  {
   "cell_type": "code",
   "execution_count": 43,
   "id": "f2d5d016",
   "metadata": {},
   "outputs": [
    {
     "ename": "ValueError",
     "evalue": "X has 1 features, but LinearRegression is expecting 3 features as input.",
     "output_type": "error",
     "traceback": [
      "\u001b[1;31m---------------------------------------------------------------------------\u001b[0m",
      "\u001b[1;31mValueError\u001b[0m                                Traceback (most recent call last)",
      "Cell \u001b[1;32mIn[43], line 1\u001b[0m\n\u001b[1;32m----> 1\u001b[0m y_pred \u001b[38;5;241m=\u001b[39m \u001b[43mlr\u001b[49m\u001b[38;5;241;43m.\u001b[39;49m\u001b[43mpredict\u001b[49m\u001b[43m(\u001b[49m\u001b[43mnp\u001b[49m\u001b[38;5;241;43m.\u001b[39;49m\u001b[43marray\u001b[49m\u001b[43m(\u001b[49m\u001b[43m[\u001b[49m\u001b[38;5;241;43m9\u001b[39;49m\u001b[43m,\u001b[49m\u001b[38;5;241;43m1\u001b[39;49m\u001b[43m,\u001b[49m\u001b[38;5;241;43m6\u001b[39;49m\u001b[43m]\u001b[49m\u001b[43m)\u001b[49m\u001b[38;5;241;43m.\u001b[39;49m\u001b[43mreshape\u001b[49m\u001b[43m(\u001b[49m\u001b[38;5;241;43m-\u001b[39;49m\u001b[38;5;241;43m1\u001b[39;49m\u001b[43m,\u001b[49m\u001b[38;5;241;43m1\u001b[39;49m\u001b[43m)\u001b[49m\u001b[43m)\u001b[49m\n\u001b[0;32m      2\u001b[0m y_pred\n",
      "File \u001b[1;32m~\\anaconda3\\lib\\site-packages\\sklearn\\linear_model\\_base.py:354\u001b[0m, in \u001b[0;36mLinearModel.predict\u001b[1;34m(self, X)\u001b[0m\n\u001b[0;32m    340\u001b[0m \u001b[38;5;28;01mdef\u001b[39;00m \u001b[38;5;21mpredict\u001b[39m(\u001b[38;5;28mself\u001b[39m, X):\n\u001b[0;32m    341\u001b[0m     \u001b[38;5;124;03m\"\"\"\u001b[39;00m\n\u001b[0;32m    342\u001b[0m \u001b[38;5;124;03m    Predict using the linear model.\u001b[39;00m\n\u001b[0;32m    343\u001b[0m \n\u001b[1;32m   (...)\u001b[0m\n\u001b[0;32m    352\u001b[0m \u001b[38;5;124;03m        Returns predicted values.\u001b[39;00m\n\u001b[0;32m    353\u001b[0m \u001b[38;5;124;03m    \"\"\"\u001b[39;00m\n\u001b[1;32m--> 354\u001b[0m     \u001b[38;5;28;01mreturn\u001b[39;00m \u001b[38;5;28;43mself\u001b[39;49m\u001b[38;5;241;43m.\u001b[39;49m\u001b[43m_decision_function\u001b[49m\u001b[43m(\u001b[49m\u001b[43mX\u001b[49m\u001b[43m)\u001b[49m\n",
      "File \u001b[1;32m~\\anaconda3\\lib\\site-packages\\sklearn\\linear_model\\_base.py:337\u001b[0m, in \u001b[0;36mLinearModel._decision_function\u001b[1;34m(self, X)\u001b[0m\n\u001b[0;32m    334\u001b[0m \u001b[38;5;28;01mdef\u001b[39;00m \u001b[38;5;21m_decision_function\u001b[39m(\u001b[38;5;28mself\u001b[39m, X):\n\u001b[0;32m    335\u001b[0m     check_is_fitted(\u001b[38;5;28mself\u001b[39m)\n\u001b[1;32m--> 337\u001b[0m     X \u001b[38;5;241m=\u001b[39m \u001b[38;5;28;43mself\u001b[39;49m\u001b[38;5;241;43m.\u001b[39;49m\u001b[43m_validate_data\u001b[49m\u001b[43m(\u001b[49m\u001b[43mX\u001b[49m\u001b[43m,\u001b[49m\u001b[43m \u001b[49m\u001b[43maccept_sparse\u001b[49m\u001b[38;5;241;43m=\u001b[39;49m\u001b[43m[\u001b[49m\u001b[38;5;124;43m\"\u001b[39;49m\u001b[38;5;124;43mcsr\u001b[39;49m\u001b[38;5;124;43m\"\u001b[39;49m\u001b[43m,\u001b[49m\u001b[43m \u001b[49m\u001b[38;5;124;43m\"\u001b[39;49m\u001b[38;5;124;43mcsc\u001b[39;49m\u001b[38;5;124;43m\"\u001b[39;49m\u001b[43m,\u001b[49m\u001b[43m \u001b[49m\u001b[38;5;124;43m\"\u001b[39;49m\u001b[38;5;124;43mcoo\u001b[39;49m\u001b[38;5;124;43m\"\u001b[39;49m\u001b[43m]\u001b[49m\u001b[43m,\u001b[49m\u001b[43m \u001b[49m\u001b[43mreset\u001b[49m\u001b[38;5;241;43m=\u001b[39;49m\u001b[38;5;28;43;01mFalse\u001b[39;49;00m\u001b[43m)\u001b[49m\n\u001b[0;32m    338\u001b[0m     \u001b[38;5;28;01mreturn\u001b[39;00m safe_sparse_dot(X, \u001b[38;5;28mself\u001b[39m\u001b[38;5;241m.\u001b[39mcoef_\u001b[38;5;241m.\u001b[39mT, dense_output\u001b[38;5;241m=\u001b[39m\u001b[38;5;28;01mTrue\u001b[39;00m) \u001b[38;5;241m+\u001b[39m \u001b[38;5;28mself\u001b[39m\u001b[38;5;241m.\u001b[39mintercept_\n",
      "File \u001b[1;32m~\\anaconda3\\lib\\site-packages\\sklearn\\base.py:569\u001b[0m, in \u001b[0;36mBaseEstimator._validate_data\u001b[1;34m(self, X, y, reset, validate_separately, **check_params)\u001b[0m\n\u001b[0;32m    566\u001b[0m     out \u001b[38;5;241m=\u001b[39m X, y\n\u001b[0;32m    568\u001b[0m \u001b[38;5;28;01mif\u001b[39;00m \u001b[38;5;129;01mnot\u001b[39;00m no_val_X \u001b[38;5;129;01mand\u001b[39;00m check_params\u001b[38;5;241m.\u001b[39mget(\u001b[38;5;124m\"\u001b[39m\u001b[38;5;124mensure_2d\u001b[39m\u001b[38;5;124m\"\u001b[39m, \u001b[38;5;28;01mTrue\u001b[39;00m):\n\u001b[1;32m--> 569\u001b[0m     \u001b[38;5;28;43mself\u001b[39;49m\u001b[38;5;241;43m.\u001b[39;49m\u001b[43m_check_n_features\u001b[49m\u001b[43m(\u001b[49m\u001b[43mX\u001b[49m\u001b[43m,\u001b[49m\u001b[43m \u001b[49m\u001b[43mreset\u001b[49m\u001b[38;5;241;43m=\u001b[39;49m\u001b[43mreset\u001b[49m\u001b[43m)\u001b[49m\n\u001b[0;32m    571\u001b[0m \u001b[38;5;28;01mreturn\u001b[39;00m out\n",
      "File \u001b[1;32m~\\anaconda3\\lib\\site-packages\\sklearn\\base.py:370\u001b[0m, in \u001b[0;36mBaseEstimator._check_n_features\u001b[1;34m(self, X, reset)\u001b[0m\n\u001b[0;32m    367\u001b[0m     \u001b[38;5;28;01mreturn\u001b[39;00m\n\u001b[0;32m    369\u001b[0m \u001b[38;5;28;01mif\u001b[39;00m n_features \u001b[38;5;241m!=\u001b[39m \u001b[38;5;28mself\u001b[39m\u001b[38;5;241m.\u001b[39mn_features_in_:\n\u001b[1;32m--> 370\u001b[0m     \u001b[38;5;28;01mraise\u001b[39;00m \u001b[38;5;167;01mValueError\u001b[39;00m(\n\u001b[0;32m    371\u001b[0m         \u001b[38;5;124mf\u001b[39m\u001b[38;5;124m\"\u001b[39m\u001b[38;5;124mX has \u001b[39m\u001b[38;5;132;01m{\u001b[39;00mn_features\u001b[38;5;132;01m}\u001b[39;00m\u001b[38;5;124m features, but \u001b[39m\u001b[38;5;132;01m{\u001b[39;00m\u001b[38;5;28mself\u001b[39m\u001b[38;5;241m.\u001b[39m\u001b[38;5;18m__class__\u001b[39m\u001b[38;5;241m.\u001b[39m\u001b[38;5;18m__name__\u001b[39m\u001b[38;5;132;01m}\u001b[39;00m\u001b[38;5;124m \u001b[39m\u001b[38;5;124m\"\u001b[39m\n\u001b[0;32m    372\u001b[0m         \u001b[38;5;124mf\u001b[39m\u001b[38;5;124m\"\u001b[39m\u001b[38;5;124mis expecting \u001b[39m\u001b[38;5;132;01m{\u001b[39;00m\u001b[38;5;28mself\u001b[39m\u001b[38;5;241m.\u001b[39mn_features_in_\u001b[38;5;132;01m}\u001b[39;00m\u001b[38;5;124m features as input.\u001b[39m\u001b[38;5;124m\"\u001b[39m\n\u001b[0;32m    373\u001b[0m     )\n",
      "\u001b[1;31mValueError\u001b[0m: X has 1 features, but LinearRegression is expecting 3 features as input."
     ]
    }
   ],
   "source": [
    "y_pred = lr.predict(np.array([9,1,6]).reshape(-1,1))\n",
    "y_pred"
   ]
  },
  {
   "cell_type": "code",
   "execution_count": null,
   "id": "8b03b1b3",
   "metadata": {},
   "outputs": [],
   "source": []
  },
  {
   "cell_type": "markdown",
   "id": "74622d44",
   "metadata": {},
   "source": [
    "<h3>Predict canada's per capita income in year 2020. There is an exercise folder here on \n",
    "github at same level as this notebook, download that and you will find \n",
    "canada_per_capita_income.csv file. Using this build a regression model and predict the \n",
    "per capita income fo canadian citizens in year 2020</h3>  "
   ]
  },
  {
   "cell_type": "code",
   "execution_count": null,
   "id": "6a462339",
   "metadata": {},
   "outputs": [],
   "source": [
    "df = pd.read_csv(r\"C:\\Users\\patil\\Desktop\\Know IT CADC\\Practical Machine Learning\\Common_Folder\\Day 3\\canada_per_capita_income.csv\")\n",
    "df.head()"
   ]
  },
  {
   "cell_type": "code",
   "execution_count": null,
   "id": "b3a83259",
   "metadata": {},
   "outputs": [],
   "source": [
    "x = df.drop(\"per capita income (US$)\", axis=1)\n",
    "y = df['per capita income (US$)']"
   ]
  },
  {
   "cell_type": "code",
   "execution_count": null,
   "id": "ff951208",
   "metadata": {},
   "outputs": [],
   "source": [
    "# Making the Model\n",
    "lr = linear_model.LinearRegression()\n",
    "lr.fit(x,y)"
   ]
  },
  {
   "cell_type": "code",
   "execution_count": null,
   "id": "99d53c5d",
   "metadata": {},
   "outputs": [],
   "source": [
    "# Predicting the per capita income for the year 2020\n",
    "y_pred = lr.predict([[2020]])\n",
    "y_pred"
   ]
  },
  {
   "cell_type": "code",
   "execution_count": null,
   "id": "20e36361",
   "metadata": {},
   "outputs": [],
   "source": [
    "y_pred = lr.predict(x)\n",
    "print(r2_score(y, y_pred))\n",
    "\n",
    "y_pred = lr.predict(x)\n",
    "print(r2_score(y, y_pred))"
   ]
  },
  {
   "cell_type": "code",
   "execution_count": null,
   "id": "f4fcea21",
   "metadata": {},
   "outputs": [],
   "source": []
  }
 ],
 "metadata": {
  "kernelspec": {
   "display_name": "Python 3 (ipykernel)",
   "language": "python",
   "name": "python3"
  },
  "language_info": {
   "codemirror_mode": {
    "name": "ipython",
    "version": 3
   },
   "file_extension": ".py",
   "mimetype": "text/x-python",
   "name": "python",
   "nbconvert_exporter": "python",
   "pygments_lexer": "ipython3",
   "version": "3.10.9"
  }
 },
 "nbformat": 4,
 "nbformat_minor": 5
}
